{
 "cells": [
  {
   "cell_type": "code",
   "execution_count": null,
   "id": "c2e287d2-c849-4e05-a8f6-0b5ea9b890f6",
   "metadata": {},
   "outputs": [],
   "source": [
    "import sys\n",
    "import os\n",
    "from pprint import pprint\n",
    "\n",
    "\n",
    "current_dir = os.path.dirname(os.path.realpath(os.getcwd()))\n",
    "different_path = os.path.abspath(os.path.join(current_dir, '../'))\n",
    "sys.path.append(current_dir)\n",
    "\n",
    "from modules.graphs import build_graph, graph_names\n",
    "from modules.query_resolver import query_resolver\n",
    "from modules.queries import queries"
   ]
  },
  {
   "cell_type": "code",
   "execution_count": null,
   "id": "3e087aac-18fe-4947-b58b-a1ea8e85ad2d",
   "metadata": {},
   "outputs": [],
   "source": [
    "import psycopg2\n",
    "import psycopg2.extras\n",
    "\n",
    "from urllib.parse import urlparse\n",
    "import os\n",
    "from decouple import AutoConfig\n",
    "current_directory = os.getcwd()\n",
    "parent_directory = os.path.dirname(current_directory)\n",
    "config = AutoConfig(search_path=parent_directory)\n",
    "url = urlparse(config(\"db_url\"))\n",
    "connection = psycopg2.connect(\n",
    "    host=url.hostname,\n",
    "    port=url.port,\n",
    "    database=url.path[1:],\n",
    "    user=url.username,\n",
    "    password=url.password\n",
    ")\n",
    "cursor = connection.cursor(cursor_factory = psycopg2.extras.RealDictCursor)"
   ]
  },
  {
   "cell_type": "code",
   "execution_count": null,
   "id": "fb399464-07ce-4bbc-92b1-55b9c76f0396",
   "metadata": {},
   "outputs": [],
   "source": [
    "result = query_resolver(cursor, queries, \"list_guilds\")\n",
    "guild_id = result.iloc[0][\"guild_id\"]\n",
    "print(f\"guild_id = {guild_id}\")"
   ]
  },
  {
   "cell_type": "code",
   "execution_count": null,
   "id": "9fde91b3-806e-45ff-b29d-18c6b6191297",
   "metadata": {},
   "outputs": [],
   "source": [
    "result = query_resolver(cursor, queries, \"guild_author_most_reactions\", {\"guild_id\" : guild_id })\n",
    "author_id = result.iloc[0][\"author_guild_id\"]\n",
    "print(f\"author_id = {author_id}\")"
   ]
  },
  {
   "cell_type": "code",
   "execution_count": null,
   "id": "9306e290-1a9f-4b65-9015-9fc417d47a77",
   "metadata": {},
   "outputs": [],
   "source": [
    "query_list = {\n",
    "\t\"query_list\" : [\n",
    "\n",
    "\t\t\"guild_message_per_channel\",\n",
    "\t\t\"guild_author_most_messages\",\n",
    "\t\t\"guild_author_message_min_100\",\n",
    "\t\t\n",
    "\t\t\"user_longest_avg_msg_length\",\n",
    "\t\t\"guild_channel_message_length\",\n",
    "\n",
    "\t\t\"guild_attachment_file_type_count\",\n",
    "\t\t\"guild_author_most_attachments\",\n",
    "\t\t# \"guild_attachment_reactions\",\n",
    "\n",
    "\t\t\"guild_author_most_reactions\",\n",
    "\t\t\"guild_author_distinct_reaction_count\",\n",
    "\t\t\n",
    "\t\t\"guild_messages_month\",\n",
    "\t\t\"guild_activity_per_day\",\n",
    "        \"guild_activity_per_day_of_week\"\n",
    "\t\t\"guild_author_most_days_with_messages\",\n",
    "\t\t\"guild_author_most_messages_single_day\",\n",
    "\t\n",
    "\t\t\"guild_domain_count\",\n",
    "\t\t# \"guild_author_url_react\",\n",
    "\n",
    "\t\t\"guild_author_edit_percentage\",\n",
    "\t\t\"guild_channel_author_count\",\n",
    "\t\t\"guild_author_mention_count\",\n",
    "\t\t\"guild_author_most_question_messages\"\n",
    "\t],\n",
    "    \"graph_list\" : [\n",
    "\n",
    "\t\t\"guild_message_per_channel\",\n",
    "\t\t\"guild_author_most_messages\",\n",
    "\t\t\"guild_author_message_min_100\",\n",
    "\t\t\n",
    "\t\t\"user_longest_avg_msg_length\",\n",
    "\t\t\"guild_channel_message_length\",\n",
    "\n",
    "\t\t\"guild_attachment_file_type_count\",\n",
    "\t\t\"guild_author_most_attachments\",\n",
    "\t\t# \"guild_attachment_reactions\",\n",
    "\n",
    "\t\t\"guild_author_most_reactions\",\n",
    "\t\t\"guild_author_distinct_reaction_count\",\n",
    "\t\t\n",
    "\t\t\"guild_messages_month\",\n",
    "\t\t\"guild_activity_per_day\",\n",
    "        \"guild_activity_per_day_of_week\"\n",
    "\t\t\"guild_author_most_days_with_messages\",\n",
    "\t\t\"guild_author_most_messages_single_day\",\n",
    "\t\n",
    "\t\t\"guild_domain_count\",\n",
    "\t\t# \"guild_author_url_react\",\n",
    "\n",
    "\t\t\"guild_author_edit_percentage\",\n",
    "\t\t\"guild_channel_author_count\",\n",
    "\t\t\"guild_author_mention_count\",\n",
    "\t\t\"guild_author_most_question_messages\"\n",
    "    ],\n",
    "    \"df_list\" : [\n",
    "        \"guild_bots_count\",\n",
    "\t\t\"guild_author_count\",\n",
    "\t\t\"guild_channels_count\",\n",
    "\t\t\"guild_channels\",\n",
    "\t\t\"guild_oldest_message\",\n",
    "\n",
    "        \"guild_attachment_reactions\",\n",
    "        \n",
    "        \"guild_author_url_react\",\n",
    "    ]\n",
    "}"
   ]
  },
  {
   "cell_type": "code",
   "execution_count": null,
   "id": "ee3dcf92-a656-403e-99ed-a20556cabc8c",
   "metadata": {},
   "outputs": [],
   "source": [
    "list(graph_names.keys())"
   ]
  },
  {
   "cell_type": "code",
   "execution_count": null,
   "id": "19702297-bd40-4678-998f-69432e9c81e6",
   "metadata": {},
   "outputs": [],
   "source": [
    "# print(\"Checking graphs.py for each query\\n\")\n",
    "# for query in query_list[\"query_list\"]:\n",
    "#     if query not in list(graph_names.keys()):\n",
    "#         print(query)"
   ]
  },
  {
   "cell_type": "code",
   "execution_count": null,
   "id": "33ce0451-7c37-4c4e-84ea-ce6731f22fde",
   "metadata": {},
   "outputs": [],
   "source": [
    "result = query_resolver(cursor, queries, \"guild_channel_author_count\", {\"guild_id\" : guild_id})"
   ]
  },
  {
   "cell_type": "code",
   "execution_count": null,
   "id": "5ff72586-485f-4f64-89ba-7ac0bfd4bbf4",
   "metadata": {},
   "outputs": [],
   "source": [
    "result"
   ]
  },
  {
   "cell_type": "code",
   "execution_count": null,
   "id": "d7b19dce-8d63-499a-8848-4b73bbaedaa6",
   "metadata": {},
   "outputs": [],
   "source": [
    "for graph_name in list(graph_names.keys()):#[-8:]:#[:3]:#[7:]:\n",
    "    print(graph_name)\n",
    "    fig = build_graph(\n",
    "        cursor,\n",
    "        graph_name,\n",
    "        {\n",
    "            \"guild_id\" : guild_id,\n",
    "            \"author_id\": author_id\n",
    "        }\n",
    "    )\n",
    "    if type(fig) == type(\"\") or fig == None:\n",
    "        pprint(fig)\n",
    "    fig[\"fig\"].update_layout(fig[\"layout\"])\n",
    "    fig[\"fig\"].update_layout({\"width\" : 1024})\n",
    "    fig[\"fig\"].show()"
   ]
  },
  {
   "cell_type": "code",
   "execution_count": null,
   "id": "a82aed79-367e-4056-b1f1-ed598f8405d9",
   "metadata": {},
   "outputs": [],
   "source": []
  }
 ],
 "metadata": {
  "kernelspec": {
   "display_name": "Python 3 (ipykernel)",
   "language": "python",
   "name": "python3"
  },
  "language_info": {
   "codemirror_mode": {
    "name": "ipython",
    "version": 3
   },
   "file_extension": ".py",
   "mimetype": "text/x-python",
   "name": "python",
   "nbconvert_exporter": "python",
   "pygments_lexer": "ipython3",
   "version": "3.10.12"
  }
 },
 "nbformat": 4,
 "nbformat_minor": 5
}
