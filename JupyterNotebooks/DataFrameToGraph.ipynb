{
 "cells": [
  {
   "cell_type": "code",
   "execution_count": null,
   "id": "742115dc-1e25-49ca-8110-5a2e7f71e609",
   "metadata": {
    "tags": []
   },
   "outputs": [],
   "source": [
    "import pandas as pd\n",
    "import sys\n",
    "from pprint import pprint"
   ]
  },
  {
   "cell_type": "code",
   "execution_count": null,
   "id": "b0ca7346-4d6c-4b30-9109-5cbbbdd06026",
   "metadata": {
    "tags": []
   },
   "outputs": [],
   "source": [
    "import os\n",
    "current_directory = os.getcwd()\n",
    "parent_directory = os.path.dirname(current_directory)\n",
    "df_directory = parent_directory\n",
    "df = pd.read_csv(df_directory + \"/full_df.csv\")\n",
    "month_df = pd.read_csv(df_directory + \"/month_df.csv\")\n",
    "query_time_df = pd.read_csv(df_directory + \"/query_time_df.csv\")\n",
    "table_size_df = pd.read_csv(df_directory + \"/table_size_df.csv\")"
   ]
  },
  {
   "cell_type": "code",
   "execution_count": null,
   "id": "532dd9f9-d548-4b7b-868b-1be00cb80b1b",
   "metadata": {
    "tags": []
   },
   "outputs": [],
   "source": [
    "select_specific_guilds = list(df[\"guild_id\"])\n",
    "len(select_specific_guilds)\n",
    "width = 1024 # 600\n",
    "width_2 = 1024 * 2"
   ]
  },
  {
   "cell_type": "code",
   "execution_count": null,
   "id": "ac7f08a7-0765-435c-b950-2b0157337b99",
   "metadata": {
    "tags": []
   },
   "outputs": [],
   "source": [
    "base_df = df[df['guild_id'].isin(select_specific_guilds)]\n",
    "month_df = month_df[month_df['guild_id'].isin(select_specific_guilds)]"
   ]
  },
  {
   "cell_type": "code",
   "execution_count": null,
   "id": "f3d08f36-bab7-434f-b68f-0af635e41d37",
   "metadata": {},
   "outputs": [],
   "source": [
    "import plotly.io as pio\n",
    "import plotly.express as px\n",
    "import plotly.graph_objects as go"
   ]
  },
  {
   "cell_type": "code",
   "execution_count": null,
   "id": "df9db3af-1f81-49fa-b834-f30c65d35f18",
   "metadata": {
    "tags": []
   },
   "outputs": [],
   "source": [
    "df_sorted = base_df.sort_values(by='message_count')\n",
    "fig = go.Figure(\n",
    "    data=[\n",
    "        go.Bar(\n",
    "            name='User Message Count',     \n",
    "            x=df_sorted[\"guild_name\"], \n",
    "            yaxis='y' , \n",
    "            y = df_sorted[\"message_count\"], \n",
    "            offsetgroup=1, \n",
    "            orientation='v'\n",
    "        ),\n",
    "        go.Bar(\n",
    "            name='Bot Message Count',  \n",
    "            x=df_sorted[\"guild_name\"], \n",
    "            yaxis='y', \n",
    "            y = df_sorted[\"bot_message_count\"],\n",
    "            offsetgroup=2, \n",
    "            orientation='v'\n",
    "        )\n",
    "    ],\n",
    "    layout={\n",
    "        'yaxis': {'title': 'User Message Count'},\n",
    "        'yaxis2': {'title': 'Bot Message Count', 'overlaying': 'y', 'side': 'top'}\n",
    "    }\n",
    "    \n",
    ")\n",
    "layout = go.Layout(\n",
    "    barmode='group',\n",
    "    title='Message Counts',\n",
    "    autosize=False,\n",
    "    width=width,  # Width in pixels\n",
    "    height=800   # Height in pixels\n",
    ")\n",
    "# pio.renderers.default = \"png\"\n",
    "fig.update_layout(layout)\n",
    "fig.show()"
   ]
  },
  {
   "cell_type": "code",
   "execution_count": null,
   "id": "33fcbb50-aadd-4fbb-9b51-b3c6b975286a",
   "metadata": {
    "tags": []
   },
   "outputs": [],
   "source": [
    "fig = go.Figure(\n",
    "    data=[\n",
    "        go.Bar(\n",
    "            name='User Count',     \n",
    "            x = df_sorted[\"guild_name\"], \n",
    "            yaxis='y' , \n",
    "            y = df_sorted[\"author_account\"], \n",
    "            offsetgroup=2, \n",
    "            orientation='v'\n",
    "        ),\n",
    "        go.Bar(\n",
    "            name='Bot Count',  \n",
    "            x=df_sorted[\"guild_name\"], \n",
    "            yaxis='y2', \n",
    "            y = df_sorted[\"bot_author_count\"],\n",
    "            offsetgroup=1, \n",
    "            orientation='v'\n",
    "        )\n",
    "    ],\n",
    "    layout={\n",
    "        'yaxis': {'title': 'User and Bot Count'},\n",
    "        'yaxis2': { 'overlaying': 'y', 'side': 'right'}\n",
    "    }\n",
    "    \n",
    ")\n",
    "layout = go.Layout(\n",
    "    barmode='group',\n",
    "    title='Accounts Counts',\n",
    "    autosize=False,\n",
    "    width=width,  # Width in pixels\n",
    "    height=800   # Height in pixels\n",
    ")\n",
    "# pio.renderers.default = \"png\"\n",
    "fig.update_layout(layout)\n",
    "fig.show()"
   ]
  },
  {
   "cell_type": "code",
   "execution_count": null,
   "id": "3c2c8097-f78a-4831-b23b-c5d5b9808b81",
   "metadata": {
    "tags": []
   },
   "outputs": [],
   "source": [
    "fig = go.Figure(\n",
    "    data=[\n",
    "        go.Bar(\n",
    "            name='User Message Count',     \n",
    "            x=df_sorted[\"guild_name\"], \n",
    "            yaxis='y' , \n",
    "            y = df_sorted[\"message_count\"], \n",
    "            offsetgroup=1, \n",
    "            orientation='v'\n",
    "        ),\n",
    "        go.Bar(\n",
    "            name='Bot Message Count',  \n",
    "            x=df_sorted[\"guild_name\"], \n",
    "            yaxis='y', \n",
    "            y = df_sorted[\"bot_message_count\"],\n",
    "            offsetgroup=2, \n",
    "            orientation='v'\n",
    "        ),\n",
    "        go.Bar(\n",
    "            name='User Count',     \n",
    "            x = df_sorted[\"guild_name\"], \n",
    "            yaxis='y3' , \n",
    "            y = df_sorted[\"author_account\"], \n",
    "            offsetgroup=3, \n",
    "            orientation='v'\n",
    "        )\n",
    "    ],\n",
    "    layout={\n",
    "        'yaxis': {'title': 'User and Bot Message Count', 'side': 'left'},\n",
    "        'yaxis2': {'side': 'left'},\n",
    "        'yaxis3': {'title': 'User and Bot Count', 'overlaying': 'y', 'side': 'right'}\n",
    "    }\n",
    "    \n",
    ")\n",
    "layout = go.Layout(\n",
    "    barmode='group',\n",
    "    title='Accounts and MessagesCounts',\n",
    "    autosize=False,\n",
    "    width=width,  # Width in pixels\n",
    "    height=800   # Height in pixels\n",
    ")\n",
    "fig.update_layout(layout)\n",
    "fig.show()"
   ]
  },
  {
   "cell_type": "code",
   "execution_count": null,
   "id": "5b697c3b-1157-4ccd-9c92-d387dede5e19",
   "metadata": {
    "tags": []
   },
   "outputs": [],
   "source": [
    "fig = go.Figure(\n",
    "    data=[\n",
    "        go.Bar(\n",
    "            name='User Message Count',     \n",
    "            x=df_sorted[\"guild_name\"], \n",
    "            yaxis='y' , \n",
    "            y = df_sorted[\"message_count\"], \n",
    "            offsetgroup=1, \n",
    "            orientation='v'\n",
    "        ),\n",
    "        go.Bar(\n",
    "            name='Bot Message Count',  \n",
    "            x=df_sorted[\"guild_name\"], \n",
    "            yaxis='y', \n",
    "            y = df_sorted[\"bot_message_count\"],\n",
    "            offsetgroup=2, \n",
    "            orientation='v'\n",
    "        ),\n",
    "        go.Bar(\n",
    "            name='User Count',     \n",
    "            x = df_sorted[\"guild_name\"], \n",
    "            yaxis='y3' , \n",
    "            y = df_sorted[\"author_account\"], \n",
    "            offsetgroup=3, \n",
    "            orientation='v'\n",
    "        ),\n",
    "        go.Bar(\n",
    "            name='Channel Count',     \n",
    "            x = df_sorted[\"guild_name\"], \n",
    "            yaxis='y4' , \n",
    "            y = df_sorted[\"channel_count\"], \n",
    "            offsetgroup=4, \n",
    "            orientation='v'\n",
    "        )\n",
    "    ],\n",
    "    layout={\n",
    "        'yaxis': {'title': 'User and Bot Message Count', 'side': 'left'},\n",
    "        'yaxis2': {'side': 'left'},\n",
    "        'yaxis3': {'title': 'User and Bot Count', 'overlaying': 'y', 'side': 'right'},\n",
    "        'yaxis4': {'title': 'Channel Count', 'overlaying': 'y', 'side': 'right', \"position\" : 0.1}\n",
    "    }\n",
    "    \n",
    ")\n",
    "layout = go.Layout(\n",
    "    barmode='group',\n",
    "    title='Accounts and Message Counts',\n",
    "    autosize=False,\n",
    "    width=width,  # Width in pixels\n",
    "    height=800   # Height in pixels\n",
    ")\n",
    "fig.update_layout(layout)\n",
    "fig.show()"
   ]
  },
  {
   "cell_type": "code",
   "execution_count": null,
   "id": "82e5f8e6-1847-48bf-a175-e919f35f175f",
   "metadata": {},
   "outputs": [],
   "source": [
    "fig = go.Figure(\n",
    "    data=[\n",
    "        go.Bar(\n",
    "            name='User Message Count',     \n",
    "            x=df_sorted[\"guild_name\"], \n",
    "            yaxis='y' , \n",
    "            y = df_sorted[\"message_count\"], \n",
    "            offsetgroup=1, \n",
    "            orientation='v'\n",
    "        ),\n",
    "        go.Bar(\n",
    "            name='Bot Message Count',  \n",
    "            x=df_sorted[\"guild_name\"], \n",
    "            yaxis='y', \n",
    "            y = df_sorted[\"bot_message_count\"],\n",
    "            offsetgroup=2, \n",
    "            orientation='v'\n",
    "        ),\n",
    "        go.Bar(\n",
    "            name='User Count',     \n",
    "            x = df_sorted[\"guild_name\"], \n",
    "            yaxis='y3' , \n",
    "            y = df_sorted[\"author_account\"], \n",
    "            offsetgroup=3, \n",
    "            orientation='v'\n",
    "        ),\n",
    "        go.Bar(\n",
    "            name='Channel Count',     \n",
    "            x = df_sorted[\"guild_name\"], \n",
    "            yaxis='y4' , \n",
    "            y = df_sorted[\"channel_count\"], \n",
    "            offsetgroup=4, \n",
    "            orientation='v'\n",
    "        )\n",
    "    ],\n",
    "    layout={\n",
    "        'yaxis': {'title': 'User and Bot Message Count', 'side': 'left'},\n",
    "        'yaxis2': {'side': 'left'},\n",
    "        'yaxis3': {'title': 'User and Bot Count', 'overlaying': 'y', 'side': 'right'},\n",
    "        'yaxis4': {'title': 'Channel Count', 'overlaying': 'y', 'side': 'right', \"position\" : 0.1}\n",
    "    }\n",
    "    \n",
    ")\n",
    "layout = go.Layout(\n",
    "    barmode='group',\n",
    "    title='Accounts and Message Counts',\n",
    "    autosize=False,\n",
    "    width=width,  # Width in pixels\n",
    "    height=800   # Height in pixels\n",
    ")\n",
    "fig.update_layout(layout)\n",
    "fig.show()"
   ]
  },
  {
   "cell_type": "code",
   "execution_count": null,
   "id": "dad98a71-929c-4277-bc48-1e07651909d8",
   "metadata": {},
   "outputs": [],
   "source": [
    "def normalize_data(df, new_column_name, normalized_column_name ):\n",
    "    df[new_column_name] = df.groupby([\"guild_id\"])[normalized_column_name].transform(lambda x: (x - x.min()) / (x.max() - x.min()))\n",
    "    return df"
   ]
  },
  {
   "cell_type": "code",
   "execution_count": null,
   "id": "eeb2d17e-dd2e-4e7a-8d83-cc4161e39588",
   "metadata": {},
   "outputs": [],
   "source": [
    "month_df = normalize_data(month_df, \"normalized_msg_count_per_month\", \"msg_count_per_month\")"
   ]
  },
  {
   "cell_type": "code",
   "execution_count": null,
   "id": "b2d4c825-3fec-4f5c-8d12-bf789cfea07f",
   "metadata": {},
   "outputs": [],
   "source": [
    "fig = px.line(\n",
    "    month_df,\n",
    "    x=\"month_timestamp\",\n",
    "    y=\"normalized_msg_count_per_month\",\n",
    "    color='guild_name',\n",
    "    title = \"Message Count Normalized\",\n",
    "    labels = {'x':\"Timestamp\", \n",
    "              'y':'normalized_msg_count_per_month'},\n",
    "    width=width_2,\n",
    "    height=1080\n",
    ")\n",
    "fig.show()"
   ]
  },
  {
   "cell_type": "code",
   "execution_count": null,
   "id": "96dfa7b9-dd83-4a79-adf5-0afb6950d98f",
   "metadata": {},
   "outputs": [],
   "source": [
    "month_df = normalize_data(month_df, \"normalized_author_count_per_month\", \"author_count_per_month\")"
   ]
  },
  {
   "cell_type": "code",
   "execution_count": null,
   "id": "bc5b46d0-cbcf-43e4-9790-bde731e08e0f",
   "metadata": {},
   "outputs": [],
   "source": [
    "fig = px.line(\n",
    "    month_df,\n",
    "    x=\"month_timestamp\",\n",
    "    y=\"normalized_author_count_per_month\",\n",
    "    color='guild_name',\n",
    "    title = \"normalized_author_count_per_month\",\n",
    "    labels = {'x':\"Timestamp\", \n",
    "              'y':'normalized_author_count_per_month'},\n",
    "    width=width_2,\n",
    "    height=1080\n",
    ")\n",
    "fig.show()"
   ]
  },
  {
   "cell_type": "code",
   "execution_count": null,
   "id": "c95d64a9-d9d3-493f-8c4d-2d4442fa698d",
   "metadata": {},
   "outputs": [],
   "source": [
    "fig = px.line(\n",
    "    month_df,\n",
    "    x=\"month_timestamp\",\n",
    "    y=\"author_count_per_month\",\n",
    "    color='guild_name',\n",
    "    title = \"author_count_per_month\",\n",
    "    labels = {'x':\"Timestamp\", \n",
    "              'y':'author_count_per_month'},\n",
    "    width=width_2,\n",
    "    height=1080\n",
    ")\n",
    "fig.show()"
   ]
  },
  {
   "cell_type": "code",
   "execution_count": null,
   "id": "8e2f3369-241f-42c9-8d5c-b1872a3b2d86",
   "metadata": {},
   "outputs": [],
   "source": [
    "month_df = normalize_data(month_df, \"normalized_bot_msg_count_per_month\", \"bot_msg_count_per_month\")"
   ]
  },
  {
   "cell_type": "code",
   "execution_count": null,
   "id": "f59fd1d6-d67a-48dc-ad30-1c8137381942",
   "metadata": {},
   "outputs": [],
   "source": [
    "fig = px.line(\n",
    "    month_df,\n",
    "    x=\"month_timestamp\",\n",
    "    y=\"normalized_bot_msg_count_per_month\",\n",
    "    color='guild_name',\n",
    "    title = \"normalized_bot_msg_count_per_month\",\n",
    "    labels = {'x':\"Timestamp\", \n",
    "              'y':'normalized_bot_msg_count_per_month'},\n",
    "    width=width,\n",
    "    height=1080\n",
    ")\n",
    "fig.show()"
   ]
  },
  {
   "cell_type": "code",
   "execution_count": null,
   "id": "5a991524-bcf6-48b8-9e09-143e4bef116d",
   "metadata": {},
   "outputs": [],
   "source": [
    "fig = px.line(\n",
    "    month_df,\n",
    "    x=\"month_timestamp\",\n",
    "    y=\"bot_msg_count_per_month\",\n",
    "    color='guild_name',\n",
    "    title = \"bot_msg_count_per_month\",\n",
    "    labels = {'x':\"Timestamp\", \n",
    "              'y':'bot_msg_count_per_month'},\n",
    "    width=width_2,\n",
    "    height=1080\n",
    ")\n",
    "fig.show()"
   ]
  }
 ],
 "metadata": {
  "kernelspec": {
   "display_name": "Python 3 (ipykernel)",
   "language": "python",
   "name": "python3"
  },
  "language_info": {
   "codemirror_mode": {
    "name": "ipython",
    "version": 3
   },
   "file_extension": ".py",
   "mimetype": "text/x-python",
   "name": "python",
   "nbconvert_exporter": "python",
   "pygments_lexer": "ipython3",
   "version": "3.10.12"
  }
 },
 "nbformat": 4,
 "nbformat_minor": 5
}
