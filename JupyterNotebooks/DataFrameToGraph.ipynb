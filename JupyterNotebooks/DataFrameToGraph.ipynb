{
 "cells": [
  {
   "cell_type": "code",
   "execution_count": null,
   "id": "742115dc-1e25-49ca-8110-5a2e7f71e609",
   "metadata": {
    "tags": []
   },
   "outputs": [],
   "source": [
    "import pandas as pd\n",
    "import os\n",
    "df_directory = os.getcwd()"
   ]
  },
  {
   "cell_type": "code",
   "execution_count": null,
   "id": "b0ca7346-4d6c-4b30-9109-5cbbbdd06026",
   "metadata": {
    "tags": []
   },
   "outputs": [],
   "source": [
    "df = pd.read_csv(df_directory + \"/full_df.csv\")\n",
    "month_df = pd.read_csv(df_directory + \"/month_df.csv\")\n",
    "query_time_df = pd.read_csv(df_directory + \"/query_time_df.csv\")\n",
    "table_size_df = pd.read_csv(df_directory + \"/table_size_df.csv\")"
   ]
  },
  {
   "cell_type": "code",
   "execution_count": null,
   "id": "532dd9f9-d548-4b7b-868b-1be00cb80b1b",
   "metadata": {
    "tags": []
   },
   "outputs": [],
   "source": [
    "select_specific_guilds = [\n",
    "    748031363935895552,\n",
    "    986982351206760458,\n",
    "    562263648173555742,\n",
    "    761182643269795850,\n",
    "    402910780124561410,\n",
    "    554623348622098432,\n",
    "    991003560378519632,\n",
    "    806902334369824788,\n",
    "    413890591840272394,\n",
    "    732864551451754547,\n",
    "    742384562646286509,\n",
    "    856325968096133191,\n",
    "    775720634848116807,\n",
    "    612953348487905282\n",
    "]\n",
    "len(select_specific_guilds)"
   ]
  },
  {
   "cell_type": "code",
   "execution_count": null,
   "id": "ac7f08a7-0765-435c-b950-2b0157337b99",
   "metadata": {
    "tags": []
   },
   "outputs": [],
   "source": [
    "base_df = df[df['guild_id'].isin(select_specific_guilds)]"
   ]
  },
  {
   "cell_type": "code",
   "execution_count": null,
   "id": "f5f5a697-1393-4649-8131-bc1b4a8f68f0",
   "metadata": {
    "tags": []
   },
   "outputs": [],
   "source": [
    "len(base_df)"
   ]
  },
  {
   "cell_type": "code",
   "execution_count": null,
   "id": "a0c38eec-f931-4b4d-ba7b-2ef90affb10b",
   "metadata": {
    "tags": []
   },
   "outputs": [],
   "source": [
    "base_df"
   ]
  },
  {
   "cell_type": "code",
   "execution_count": null,
   "id": "f3d08f36-bab7-434f-b68f-0af635e41d37",
   "metadata": {},
   "outputs": [],
   "source": [
    "import plotly.io as pio\n",
    "import plotly.express as px\n",
    "import plotly.graph_objects as go\n"
   ]
  },
  {
   "cell_type": "code",
   "execution_count": null,
   "id": "b425dcaf-00a4-484f-8630-0c98167993ee",
   "metadata": {
    "tags": []
   },
   "outputs": [],
   "source": [
    "df_sorted = base_df.sort_values(by='author_account')\n",
    "fig = px.bar(\n",
    "    x=df_sorted[\"guild_name\"], \n",
    "    y=df_sorted[\"author_account\"],\n",
    "    title = \"Number of Messages from Users\",\n",
    "    labels = {'x':\"Guild Name\", \n",
    "              'y':'Number of Messages'}\n",
    ")\n",
    "fig.show()"
   ]
  },
  {
   "cell_type": "code",
   "execution_count": null,
   "id": "df9db3af-1f81-49fa-b834-f30c65d35f18",
   "metadata": {
    "tags": []
   },
   "outputs": [],
   "source": [
    "fig = go.Figure(\n",
    "    data=[\n",
    "        go.Bar(\n",
    "            name='User Message Count',     \n",
    "            y=df_sorted[\"guild_name\"], \n",
    "            xaxis='x' , \n",
    "            x = df_sorted[\"message_count\"], \n",
    "            offsetgroup=2, \n",
    "            orientation='h'\n",
    "        ),\n",
    "        go.Bar(\n",
    "            name='Bot Message Count',  \n",
    "            y=df_sorted[\"guild_name\"], \n",
    "            xaxis='x', \n",
    "            x = df_sorted[\"bot_message_count\"],\n",
    "            offsetgroup=1, \n",
    "            orientation='h'\n",
    "        )\n",
    "    ],\n",
    "    layout={\n",
    "        'xaxis': {'title': 'User Message Count'},\n",
    "        'xaxis2': {'title': 'Bot Message Count', 'overlaying': 'x', 'side': 'top'}\n",
    "    }\n",
    "    \n",
    ")\n",
    "layout = go.Layout(\n",
    "    barmode='group',\n",
    "    title='Message Counts',\n",
    "    autosize=False,\n",
    "    width=1024,  # Width in pixels\n",
    "    height=800   # Height in pixels\n",
    ")\n",
    "# pio.renderers.default = \"png\"\n",
    "fig.update_layout(layout)\n",
    "fig.show()"
   ]
  },
  {
   "cell_type": "code",
   "execution_count": null,
   "id": "33fcbb50-aadd-4fbb-9b51-b3c6b975286a",
   "metadata": {
    "tags": []
   },
   "outputs": [],
   "source": [
    "fig = go.Figure(\n",
    "    data=[\n",
    "        go.Bar(\n",
    "            name='User Count',     \n",
    "            x = df_sorted[\"guild_name\"], \n",
    "            yaxis='y' , \n",
    "            y = df_sorted[\"author_account\"], \n",
    "            offsetgroup=2, \n",
    "            orientation='v'\n",
    "        ),\n",
    "        go.Bar(\n",
    "            name='Bot Count',  \n",
    "            x=df_sorted[\"guild_name\"], \n",
    "            yaxis='y2', \n",
    "            y = df_sorted[\"bot_author_count\"],\n",
    "            offsetgroup=1, \n",
    "            orientation='v'\n",
    "        )\n",
    "    ],\n",
    "    layout={\n",
    "        'yaxis': {'title': 'User and Bot Count'},\n",
    "        'yaxis2': { 'overlaying': 'y', 'side': 'right'}\n",
    "    }\n",
    "    \n",
    ")\n",
    "layout = go.Layout(\n",
    "    barmode='group',\n",
    "    title='Accounts Counts',\n",
    "    autosize=False,\n",
    "    width=1024,  # Width in pixels\n",
    "    height=800   # Height in pixels\n",
    ")\n",
    "# pio.renderers.default = \"png\"\n",
    "fig.update_layout(layout)\n",
    "fig.show()"
   ]
  },
  {
   "cell_type": "code",
   "execution_count": null,
   "id": "3c2c8097-f78a-4831-b23b-c5d5b9808b81",
   "metadata": {
    "tags": []
   },
   "outputs": [],
   "source": [
    "fig = go.Figure(\n",
    "    data=[\n",
    "        go.Bar(\n",
    "            name='User Message Count',     \n",
    "            x=df_sorted[\"guild_name\"], \n",
    "            yaxis='y' , \n",
    "            y = df_sorted[\"message_count\"], \n",
    "            offsetgroup=1, \n",
    "            orientation='v'\n",
    "        ),\n",
    "        go.Bar(\n",
    "            name='Bot Message Count',  \n",
    "            x=df_sorted[\"guild_name\"], \n",
    "            yaxis='y', \n",
    "            y = df_sorted[\"bot_message_count\"],\n",
    "            offsetgroup=2, \n",
    "            orientation='v'\n",
    "        ),\n",
    "        go.Bar(\n",
    "            name='User Count',     \n",
    "            x = df_sorted[\"guild_name\"], \n",
    "            yaxis='y3' , \n",
    "            y = df_sorted[\"author_account\"], \n",
    "            offsetgroup=3, \n",
    "            orientation='v'\n",
    "        )\n",
    "    ],\n",
    "    layout={\n",
    "        'yaxis': {'title': 'User and Bot Message Count', 'side': 'left'},\n",
    "        'yaxis2': {'side': 'left'},\n",
    "        'yaxis3': {'title': 'User and Bot Count', 'overlaying': 'y', 'side': 'right'}\n",
    "    }\n",
    "    \n",
    ")\n",
    "layout = go.Layout(\n",
    "    barmode='group',\n",
    "    title='Accounts and MessagesCounts',\n",
    "    autosize=False,\n",
    "    width=1024,  # Width in pixels\n",
    "    height=800   # Height in pixels\n",
    ")\n",
    "fig.update_layout(layout)\n",
    "fig.show()"
   ]
  },
  {
   "cell_type": "code",
   "execution_count": null,
   "id": "5b697c3b-1157-4ccd-9c92-d387dede5e19",
   "metadata": {
    "tags": []
   },
   "outputs": [],
   "source": [
    "fig = go.Figure(\n",
    "    data=[\n",
    "        go.Bar(\n",
    "            name='User Message Count',     \n",
    "            x=df_sorted[\"guild_name\"], \n",
    "            yaxis='y' , \n",
    "            y = df_sorted[\"message_count\"], \n",
    "            offsetgroup=1, \n",
    "            orientation='v'\n",
    "        ),\n",
    "        go.Bar(\n",
    "            name='Bot Message Count',  \n",
    "            x=df_sorted[\"guild_name\"], \n",
    "            yaxis='y', \n",
    "            y = df_sorted[\"bot_message_count\"],\n",
    "            offsetgroup=2, \n",
    "            orientation='v'\n",
    "        ),\n",
    "        go.Bar(\n",
    "            name='User Count',     \n",
    "            x = df_sorted[\"guild_name\"], \n",
    "            yaxis='y3' , \n",
    "            y = df_sorted[\"author_account\"], \n",
    "            offsetgroup=3, \n",
    "            orientation='v'\n",
    "        ),\n",
    "        go.Bar(\n",
    "            name='Channel Count',     \n",
    "            x = df_sorted[\"guild_name\"], \n",
    "            yaxis='y4' , \n",
    "            y = df_sorted[\"channel_count\"], \n",
    "            offsetgroup=4, \n",
    "            orientation='v'\n",
    "        )\n",
    "    ],\n",
    "    layout={\n",
    "        'yaxis': {'title': 'User and Bot Message Count', 'side': 'left'},\n",
    "        'yaxis2': {'side': 'left'},\n",
    "        'yaxis3': {'title': 'User and Bot Count', 'overlaying': 'y', 'side': 'right'},\n",
    "        'yaxis4': {'title': 'Channel Count', 'overlaying': 'y', 'side': 'right', \"position\" : 0.1}\n",
    "    }\n",
    "    \n",
    ")\n",
    "layout = go.Layout(\n",
    "    barmode='group',\n",
    "    title='Accounts and MessagesCounts',\n",
    "    autosize=False,\n",
    "    width=1024,  # Width in pixels\n",
    "    height=800   # Height in pixels\n",
    ")\n",
    "fig.update_layout(layout)\n",
    "fig.show()"
   ]
  },
  {
   "cell_type": "code",
   "execution_count": null,
   "id": "abade213-6881-4df8-9f92-188bc4042d39",
   "metadata": {
    "tags": []
   },
   "outputs": [],
   "source": [
    "base_df[\"percentage_authors_less_20_messages\"] = (base_df[\"num_authors_less_20_messages\"] / base_df[\"author_account\"]) * 100\n"
   ]
  },
  {
   "cell_type": "code",
   "execution_count": null,
   "id": "2b5a4183-b83c-4db6-a1fb-63b5fe45ff6a",
   "metadata": {
    "tags": []
   },
   "outputs": [],
   "source": [
    "base_df.keys()"
   ]
  },
  {
   "cell_type": "code",
   "execution_count": null,
   "id": "4d07ade1-4cca-431b-8977-3c873f2cd660",
   "metadata": {
    "tags": []
   },
   "outputs": [],
   "source": [
    "base_df[[\"num_authors_less_20_messages\", \"author_account\"]]"
   ]
  },
  {
   "cell_type": "code",
   "execution_count": null,
   "id": "14f8b790-964d-499e-8347-1af523e653dc",
   "metadata": {
    "tags": []
   },
   "outputs": [],
   "source": [
    "df_sorted = base_df.sort_values(by='percentage_authors_less_20_messages')\n",
    "fig = go.Figure(\n",
    "    data=[\n",
    "        go.Bar(\n",
    "            name='percentage_authors_less_20_messages',     \n",
    "            x=df_sorted[\"guild_name\"], \n",
    "            yaxis='y' , \n",
    "            y = df_sorted[\"percentage_authors_less_20_messages\"], \n",
    "            offsetgroup=1, \n",
    "            orientation='v'\n",
    "        ),\n",
    "    ],\n",
    "    layout={\n",
    "        'yaxis': {'title': 'num_authors_less_20_messages', 'side': 'left'},\n",
    "    }\n",
    "    \n",
    ")\n",
    "layout = go.Layout(\n",
    "    barmode='group',\n",
    "    title='num_authors_less_20_messages',\n",
    "    autosize=False,\n",
    "    width=1024,  # Width in pixels\n",
    "    height=800   # Height in pixels\n",
    ")\n",
    "fig.update_layout(layout)\n",
    "fig.show()"
   ]
  }
 ],
 "metadata": {
  "kernelspec": {
   "display_name": "Python 3 (ipykernel)",
   "language": "python",
   "name": "python3"
  },
  "language_info": {
   "codemirror_mode": {
    "name": "ipython",
    "version": 3
   },
   "file_extension": ".py",
   "mimetype": "text/x-python",
   "name": "python",
   "nbconvert_exporter": "python",
   "pygments_lexer": "ipython3",
   "version": "3.11.4"
  }
 },
 "nbformat": 4,
 "nbformat_minor": 5
}
