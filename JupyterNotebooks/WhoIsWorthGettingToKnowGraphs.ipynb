{
 "cells": [
  {
   "cell_type": "code",
   "execution_count": null,
   "id": "7b7434da-ea6c-4470-a0ff-6c8e71b8ef3c",
   "metadata": {
    "tags": []
   },
   "outputs": [],
   "source": [
    "import os\n",
    "import pandas as pd\n",
    "from decouple import AutoConfig\n",
    "current_directory = os.getcwd()\n",
    "parent_directory = os.path.dirname(current_directory)\n",
    "config = AutoConfig(search_path=parent_directory)\n",
    "from pathlib import Path\n",
    "from pprint import pprint\n",
    "directory_path = Path(os.getcwd() + \"/dataframes/\" + config(\"guild_id\"))\n",
    "files = directory_path.glob('*')\n",
    "\n",
    "dataframes_csvs = []\n",
    "for file in files:\n",
    "    dataframes_csvs.append(str(file))\n",
    "\n",
    "directory_path = str(directory_path)"
   ]
  },
  {
   "cell_type": "code",
   "execution_count": null,
   "id": "e87e5f3a-e4b8-4d9c-8dec-69e43276a445",
   "metadata": {
    "tags": []
   },
   "outputs": [],
   "source": [
    "read_path = directory_path + \"/What discord author edits the highest percentage of their messages within a particular discord guild.csv\"\n",
    "edit_percentage = pd.read_csv(read_path)\n",
    "edit_percentage_min = edit_percentage[edit_percentage['msg_count'] > 100]"
   ]
  },
  {
   "cell_type": "code",
   "execution_count": null,
   "id": "e7c94d35-7106-4c72-9fd8-09267604ec29",
   "metadata": {
    "tags": []
   },
   "outputs": [],
   "source": [
    "edit_percentage_min"
   ]
  },
  {
   "cell_type": "code",
   "execution_count": null,
   "id": "3938ccbf-e2b3-4d21-a30b-9eede357cba6",
   "metadata": {
    "tags": []
   },
   "outputs": [],
   "source": [
    "read_path = directory_path + \"/What discord author got the most reactions to their messages.csv\"\n",
    "most_reactions = pd.read_csv(read_path)\n",
    "# edit_percentage_min = edit_percentage[edit_percentage['msg_count'] > 100]"
   ]
  },
  {
   "cell_type": "code",
   "execution_count": null,
   "id": "0de87487-164c-4828-8e67-8d03b6d77c49",
   "metadata": {
    "tags": []
   },
   "outputs": [],
   "source": [
    "most_reactions"
   ]
  },
  {
   "cell_type": "code",
   "execution_count": null,
   "id": "b7ac9c41-5b66-4c8e-997f-d5fc93699b8d",
   "metadata": {
    "tags": []
   },
   "outputs": [],
   "source": [
    "read_path = directory_path + \"/What discord user has the highest spike in activity.csv\"\n",
    "spike_df = pd.read_csv(read_path)\n",
    "# edit_percentage_min = edit_percentage[edit_percentage['msg_count'] > 100]"
   ]
  },
  {
   "cell_type": "code",
   "execution_count": null,
   "id": "faa48353-0f19-48fd-b3a0-0a74a1c113eb",
   "metadata": {
    "tags": []
   },
   "outputs": [],
   "source": [
    "spike_df"
   ]
  },
  {
   "cell_type": "code",
   "execution_count": null,
   "id": "6c434669-00c5-4f0a-8609-3a45f7626c9e",
   "metadata": {
    "tags": []
   },
   "outputs": [],
   "source": [
    "read_path = directory_path + \"/What discord user has the longest average message length in a particular guild.csv\"\n",
    "longest_avg_length_df = pd.read_csv(read_path)\n",
    "longest_avg_length_df_min = longest_avg_length_df[longest_avg_length_df['content_count'] > 100]"
   ]
  },
  {
   "cell_type": "code",
   "execution_count": null,
   "id": "221c5185-45a9-483f-8efd-3aeea761ac44",
   "metadata": {
    "tags": []
   },
   "outputs": [],
   "source": [
    "longest_avg_length_df_min"
   ]
  },
  {
   "cell_type": "code",
   "execution_count": null,
   "id": "1543ef4f-6f89-4ff3-a9d9-9b0d8acfc37f",
   "metadata": {},
   "outputs": [],
   "source": []
  }
 ],
 "metadata": {
  "kernelspec": {
   "display_name": "Python 3 (ipykernel)",
   "language": "python",
   "name": "python3"
  },
  "language_info": {
   "codemirror_mode": {
    "name": "ipython",
    "version": 3
   },
   "file_extension": ".py",
   "mimetype": "text/x-python",
   "name": "python",
   "nbconvert_exporter": "python",
   "pygments_lexer": "ipython3",
   "version": "3.11.4"
  }
 },
 "nbformat": 4,
 "nbformat_minor": 5
}
