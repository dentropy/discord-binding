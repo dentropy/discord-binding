{
 "cells": [
  {
   "cell_type": "code",
   "execution_count": null,
   "id": "c2e287d2-c849-4e05-a8f6-0b5ea9b890f6",
   "metadata": {},
   "outputs": [],
   "source": [
    "import sys\n",
    "import os\n",
    "from pprint import pprint\n",
    "\n",
    "\n",
    "current_dir = os.path.dirname(os.path.realpath(os.getcwd()))\n",
    "different_path = os.path.abspath(os.path.join(current_dir, '../'))\n",
    "sys.path.append(current_dir)\n",
    "\n",
    "from modules.graphs import build_graph, graph_names\n",
    "from modules.query_resolver import query_resolver\n",
    "from modules.queries import queries"
   ]
  },
  {
   "cell_type": "code",
   "execution_count": null,
   "id": "3e087aac-18fe-4947-b58b-a1ea8e85ad2d",
   "metadata": {},
   "outputs": [],
   "source": [
    "import psycopg2\n",
    "import psycopg2.extras\n",
    "\n",
    "from urllib.parse import urlparse\n",
    "import os\n",
    "from decouple import AutoConfig\n",
    "current_directory = os.getcwd()\n",
    "parent_directory = os.path.dirname(current_directory)\n",
    "config = AutoConfig(search_path=parent_directory)\n",
    "url = urlparse(config(\"db_url\"))\n",
    "connection = psycopg2.connect(\n",
    "    host=url.hostname,\n",
    "    port=url.port,\n",
    "    database=url.path[1:],\n",
    "    user=url.username,\n",
    "    password=url.password\n",
    ")\n",
    "cursor = connection.cursor(cursor_factory = psycopg2.extras.RealDictCursor)"
   ]
  },
  {
   "cell_type": "code",
   "execution_count": null,
   "id": "fb399464-07ce-4bbc-92b1-55b9c76f0396",
   "metadata": {},
   "outputs": [],
   "source": [
    "result = query_resolver(cursor, queries, \"list_guilds\")\n",
    "guild_id = result.iloc[0][\"guild_id\"]\n",
    "# print(\"list_guilds\")\n",
    "print(f\"guild_id = {guild_id}\")\n",
    "# pprint(result)\n",
    "assert result.shape[1] == 3"
   ]
  },
  {
   "cell_type": "code",
   "execution_count": null,
   "id": "e0e990e5-e425-4371-827c-2a65b9a29dec",
   "metadata": {},
   "outputs": [],
   "source": [
    "fig = build_graph(\n",
    "    cursor,\n",
    "    \"user_longest_avg_msg_length\",\n",
    "    {\n",
    "        \"guild_id\" : guild_id\n",
    "    }\n",
    ")\n",
    "fig[\"fig\"].update_layout(fig[\"layout\"])"
   ]
  },
  {
   "cell_type": "code",
   "execution_count": null,
   "id": "fc18321f-b22e-4d53-b7d1-e1c7b7af9754",
   "metadata": {},
   "outputs": [],
   "source": [
    "fig = build_graph(\n",
    "    cursor,\n",
    "    \"guild_author_most_messages\",\n",
    "    {\n",
    "        \"guild_id\" : guild_id\n",
    "    }\n",
    ")\n",
    "fig[\"fig\"].update_layout(fig[\"layout\"])"
   ]
  },
  {
   "cell_type": "code",
   "execution_count": null,
   "id": "ac82b1bc-0d77-4c17-b9b8-46447c4fcb9f",
   "metadata": {},
   "outputs": [],
   "source": [
    "fig = build_graph(\n",
    "    cursor,\n",
    "    \"guild_author_most_days_with_messages\",\n",
    "    {\n",
    "        \"guild_id\" : guild_id\n",
    "    }\n",
    ")\n",
    "fig[\"fig\"].update_layout(fig[\"layout\"])"
   ]
  },
  {
   "cell_type": "code",
   "execution_count": null,
   "id": "2e227a69-5f78-46ed-9512-96d3832dfe74",
   "metadata": {},
   "outputs": [],
   "source": [
    "fig = build_graph(\n",
    "    cursor,\n",
    "    \"guild_author_most_reactions\",\n",
    "    {\n",
    "        \"guild_id\" : guild_id\n",
    "    }\n",
    ")\n",
    "fig[\"fig\"].update_layout(fig[\"layout\"])"
   ]
  },
  {
   "cell_type": "code",
   "execution_count": null,
   "id": "5a65e628-3f41-491b-b71a-0add3e4c47fa",
   "metadata": {},
   "outputs": [],
   "source": [
    "fig = build_graph(\n",
    "    cursor,\n",
    "    \"guild_author_most_reactions\",\n",
    "    {\n",
    "        \"guild_id\" : guild_id\n",
    "    }\n",
    ")\n",
    "fig[\"fig\"].update_layout(fig[\"layout\"])"
   ]
  },
  {
   "cell_type": "code",
   "execution_count": null,
   "id": "4d3ac9db-fb67-4740-8750-3e41bd3a6ed6",
   "metadata": {},
   "outputs": [],
   "source": [
    "fig = build_graph(\n",
    "    cursor,\n",
    "    \"guild_author_most_attachments\",\n",
    "    {\n",
    "        \"guild_id\" : guild_id\n",
    "    }\n",
    ")\n",
    "fig[\"fig\"].update_layout(fig[\"layout\"])"
   ]
  },
  {
   "cell_type": "code",
   "execution_count": null,
   "id": "1c9c7c6e-534f-4dcd-9a32-673db403abd0",
   "metadata": {},
   "outputs": [],
   "source": [
    "fig = build_graph(\n",
    "    cursor,\n",
    "    \"guild_author_most_attachments\",\n",
    "    {\n",
    "        \"guild_id\" : guild_id\n",
    "    }\n",
    ")\n",
    "fig[\"fig\"].update_layout(fig[\"layout\"])"
   ]
  },
  {
   "cell_type": "code",
   "execution_count": null,
   "id": "d7b19dce-8d63-499a-8848-4b73bbaedaa6",
   "metadata": {},
   "outputs": [],
   "source": [
    "for graph_name in graph_names.keys():\n",
    "    fig = build_graph(\n",
    "        cursor,\n",
    "        \"guild_author_most_attachments\",\n",
    "        {\n",
    "            \"guild_id\" : guild_id\n",
    "        }\n",
    "    )\n",
    "    fig[\"fig\"].update_layout(fig[\"layout\"])"
   ]
  }
 ],
 "metadata": {
  "kernelspec": {
   "display_name": "Python 3 (ipykernel)",
   "language": "python",
   "name": "python3"
  },
  "language_info": {
   "codemirror_mode": {
    "name": "ipython",
    "version": 3
   },
   "file_extension": ".py",
   "mimetype": "text/x-python",
   "name": "python",
   "nbconvert_exporter": "python",
   "pygments_lexer": "ipython3",
   "version": "3.10.12"
  }
 },
 "nbformat": 4,
 "nbformat_minor": 5
}
