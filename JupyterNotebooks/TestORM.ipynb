{
 "cells": [
  {
   "cell_type": "code",
   "execution_count": null,
   "id": "0905ca90-b781-47b5-b503-00b93c9dc9f9",
   "metadata": {},
   "outputs": [],
   "source": [
    "import sys\n",
    "import os\n",
    "from pprint import pprint\n",
    "from urllib.parse import urlparse\n",
    "from decouple import AutoConfig\n",
    "current_directory = os.getcwd()\n",
    "parent_directory = os.path.dirname(current_directory)\n",
    "sys.path.insert(1, parent_directory    )\n",
    "from schema_sqlalchemy import Guilds, Messages, Channels, Authors\n",
    "\n",
    "config = AutoConfig(search_path=parent_directory)\n",
    "\n",
    "\n",
    "from sqlalchemy import create_engine\n",
    "from sqlalchemy.orm import Session, sessionmaker\n",
    "engine_path = config(\"db_url\")\n",
    "engine = create_engine(engine_path, echo=True)\n",
    "Session = sessionmaker(bind=engine, autoflush=False)\n",
    "session = Session()\n"
   ]
  },
  {
   "cell_type": "code",
   "execution_count": null,
   "id": "c761493e-4e57-463b-a8f9-130d57393d0d",
   "metadata": {},
   "outputs": [],
   "source": [
    "from schema_sqlalchemy import Guilds, Channels, Messages, Attachments, Authors, Reactions, Roles, Mentions"
   ]
  },
  {
   "cell_type": "code",
   "execution_count": null,
   "id": "5eef494d-0145-4c21-a98d-ad1d68a0b735",
   "metadata": {},
   "outputs": [],
   "source": [
    "results = session.query(Guilds).first()"
   ]
  },
  {
   "cell_type": "code",
   "execution_count": null,
   "id": "3f669549-aefe-44ac-a7e2-26554e7588e1",
   "metadata": {},
   "outputs": [],
   "source": [
    "print(f\"id = {results.id}\\n name = {results.guild_name}\\n icon_url = {results.icon_url}\")"
   ]
  },
  {
   "cell_type": "code",
   "execution_count": null,
   "id": "52dfcb5d-8cf0-47b4-a185-fd303ee8f729",
   "metadata": {},
   "outputs": [],
   "source": [
    "results = session.query(Messages).first()"
   ]
  },
  {
   "cell_type": "code",
   "execution_count": null,
   "id": "5d77bcac-a094-456a-a4f6-a67eb6ab8695",
   "metadata": {},
   "outputs": [],
   "source": [
    "print(f\"id = {results.id}\\nmsg_content = {results.msg_content}\\n\")"
   ]
  },
  {
   "cell_type": "code",
   "execution_count": null,
   "id": "62daa067-bc4c-4da7-b287-7c45f7ba7c1a",
   "metadata": {},
   "outputs": [],
   "source": [
    "print(f\"id = {results.id}\\nmsg_content = {results.msg_content}\\n\")"
   ]
  },
  {
   "cell_type": "code",
   "execution_count": null,
   "id": "887440e6-5f93-4523-907f-b801a351de39",
   "metadata": {},
   "outputs": [],
   "source": []
  }
 ],
 "metadata": {
  "kernelspec": {
   "display_name": "Python 3 (ipykernel)",
   "language": "python",
   "name": "python3"
  },
  "language_info": {
   "codemirror_mode": {
    "name": "ipython",
    "version": 3
   },
   "file_extension": ".py",
   "mimetype": "text/x-python",
   "name": "python",
   "nbconvert_exporter": "python",
   "pygments_lexer": "ipython3",
   "version": "3.10.12"
  }
 },
 "nbformat": 4,
 "nbformat_minor": 5
}
