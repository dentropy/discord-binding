{
 "cells": [
  {
   "cell_type": "code",
   "execution_count": null,
   "id": "0666f830-9ced-4dee-9c6f-f05f3c85a4ed",
   "metadata": {
    "tags": []
   },
   "outputs": [],
   "source": [
    "import os\n",
    "from pprint import pprint\n",
    "from decouple import AutoConfig\n",
    "current_directory = os.getcwd()\n",
    "parent_directory = os.path.dirname(current_directory)\n",
    "config = AutoConfig(search_path=parent_directory)\n",
    "\n",
    "import sys\n",
    "sys.path.append(os.getcwd() + '/..')\n",
    "from DiscordAnalytics import DiscordAnalytics\n",
    "\n",
    "discord_analytics = DiscordAnalytics(config(\"db_url\"))\n",
    "import timeit"
   ]
  },
  {
   "cell_type": "code",
   "execution_count": null,
   "id": "480c780e-2357-447f-9b30-11e0df389692",
   "metadata": {
    "tags": []
   },
   "outputs": [],
   "source": [
    "guilds_list = discord_analytics.fetch_all_guilds()"
   ]
  },
  {
   "cell_type": "code",
   "execution_count": null,
   "id": "23d2dda0-e806-464f-b682-0f13905aaf79",
   "metadata": {
    "tags": []
   },
   "outputs": [],
   "source": [
    "discord_analytics.set_guild_white_list(list(guilds_list[\"guild_id\"].loc[0:]))"
   ]
  },
  {
   "cell_type": "code",
   "execution_count": null,
   "id": "1f81b7a8-e99e-4ce1-b19f-90eea38da1e9",
   "metadata": {},
   "outputs": [],
   "source": [
    "discord_analytics.calculate_table_row_counts()"
   ]
  },
  {
   "cell_type": "code",
   "execution_count": null,
   "id": "3502a973-b26f-4613-a468-45cc21e5d602",
   "metadata": {},
   "outputs": [],
   "source": [
    "discord_analytics.table_size_df.to_csv(\"table_size_df.csv\")"
   ]
  },
  {
   "cell_type": "code",
   "execution_count": null,
   "id": "afbc52db-cc02-4867-8671-592206985116",
   "metadata": {
    "tags": []
   },
   "outputs": [],
   "source": [
    "discord_analytics.get_guild_names()"
   ]
  },
  {
   "cell_type": "code",
   "execution_count": null,
   "id": "b9dec01b-6201-4e94-a8bd-00ede3756aee",
   "metadata": {},
   "outputs": [],
   "source": [
    "discord_analytics.query_time_df"
   ]
  },
  {
   "cell_type": "code",
   "execution_count": null,
   "id": "4a8511c0-7744-4a12-bfd2-dfbf23c18cfd",
   "metadata": {},
   "outputs": [],
   "source": [
    "discord_analytics.earliest_message_per_guild()"
   ]
  },
  {
   "cell_type": "code",
   "execution_count": null,
   "id": "b17ed93f-1c18-49cb-b948-1b94ad2b170e",
   "metadata": {},
   "outputs": [],
   "source": [
    "discord_analytics.query_time_df"
   ]
  },
  {
   "cell_type": "code",
   "execution_count": null,
   "id": "20be12ff-6d85-4963-b586-03d9c22f276c",
   "metadata": {},
   "outputs": [],
   "source": [
    "start_time = timeit.default_timer()\n",
    "discord_analytics.calculate_num_authors_per_guild()\n",
    "elapsed = timeit.default_timer() - start_time\n",
    "pprint(elapsed)"
   ]
  },
  {
   "cell_type": "code",
   "execution_count": null,
   "id": "5aa8ea02-6ebe-4a63-9326-6b5f79e3098f",
   "metadata": {},
   "outputs": [],
   "source": [
    "start_time = timeit.default_timer()\n",
    "discord_analytics.calculate_num_bot_authors_per_guild()\n",
    "elapsed = timeit.default_timer() - start_time\n",
    "pprint(elapsed)"
   ]
  },
  {
   "cell_type": "code",
   "execution_count": null,
   "id": "a6c8b3a6-9558-4c1c-ae1d-8df765bd6a19",
   "metadata": {},
   "outputs": [],
   "source": [
    "start_time = timeit.default_timer()\n",
    "discord_analytics.calculate_num_channels_per_guild()\n",
    "elapsed = timeit.default_timer() - start_time\n",
    "pprint(elapsed)"
   ]
  },
  {
   "cell_type": "code",
   "execution_count": null,
   "id": "61325d57-e2ca-4ddb-8cbf-af8daa9ce5e7",
   "metadata": {},
   "outputs": [],
   "source": [
    "start_time = timeit.default_timer()\n",
    "discord_analytics.calculate_num_messages_per_guild()\n",
    "elapsed = timeit.default_timer() - start_time\n",
    "pprint(elapsed)"
   ]
  },
  {
   "cell_type": "code",
   "execution_count": null,
   "id": "066d4c15-5016-4c3c-afa2-d39a88ee799b",
   "metadata": {},
   "outputs": [],
   "source": [
    "start_time = timeit.default_timer()\n",
    "discord_analytics.calculte_num_bot_messages_per_guild()\n",
    "elapsed = timeit.default_timer() - start_time\n",
    "pprint(elapsed)"
   ]
  },
  {
   "cell_type": "code",
   "execution_count": null,
   "id": "a249eb7f-b48b-42e9-bbf0-aabd42d7a6ef",
   "metadata": {
    "tags": []
   },
   "outputs": [],
   "source": [
    "discord_analytics.df.to_csv(\"./df.csv\")"
   ]
  },
  {
   "cell_type": "code",
   "execution_count": null,
   "id": "26743e73-3194-49c1-be2a-fe4056ccf80b",
   "metadata": {},
   "outputs": [],
   "source": [
    "start_time = timeit.default_timer()\n",
    "discord_analytics.calculate_num_authors_more_x_messages(20)\n",
    "elapsed = timeit.default_timer() - start_time\n",
    "pprint(elapsed)"
   ]
  },
  {
   "cell_type": "code",
   "execution_count": null,
   "id": "d762de36-6268-42fa-8f65-931835765ad6",
   "metadata": {},
   "outputs": [],
   "source": [
    "start_time = timeit.default_timer()\n",
    "discord_analytics.calculate_num_authors_less_x_messages(20)\n",
    "elapsed = timeit.default_timer() - start_time\n",
    "pprint(elapsed)"
   ]
  },
  {
   "cell_type": "code",
   "execution_count": null,
   "id": "f5ea4008-30ac-4f5f-991e-0809495402d7",
   "metadata": {
    "tags": []
   },
   "outputs": [],
   "source": [
    "start_time = timeit.default_timer()\n",
    "discord_analytics.calculate_num_authors_between_msg_count(2,100)\n",
    "elapsed = timeit.default_timer() - start_time\n",
    "pprint(elapsed)"
   ]
  },
  {
   "cell_type": "code",
   "execution_count": null,
   "id": "d4cb382c-d36f-4e45-a3fb-66df82462caa",
   "metadata": {},
   "outputs": [],
   "source": [
    "start_time = timeit.default_timer()\n",
    "discord_analytics.calculate_average_half_life_top_x_percent_users(20, 2)\n",
    "elapsed = timeit.default_timer() - start_time\n",
    "pprint(elapsed)"
   ]
  },
  {
   "cell_type": "code",
   "execution_count": null,
   "id": "2cf719e6-f7f8-408f-8bd2-20c1738a40d8",
   "metadata": {},
   "outputs": [],
   "source": [
    "start_time = timeit.default_timer()\n",
    "discord_analytics.calculate_average_half_life_top_x_percent_users(30, 2)\n",
    "elapsed = timeit.default_timer() - start_time\n",
    "pprint(elapsed)"
   ]
  },
  {
   "cell_type": "code",
   "execution_count": null,
   "id": "8ddc7b84-6d66-41ab-87ad-b6b5bec2fb06",
   "metadata": {},
   "outputs": [],
   "source": [
    "discord_analytics.df.to_csv(\"./full_df.csv\")"
   ]
  },
  {
   "cell_type": "code",
   "execution_count": null,
   "id": "32e3246b-3bfd-4e1c-9c5a-b8967062ec33",
   "metadata": {},
   "outputs": [],
   "source": [
    "start_time = timeit.default_timer()\n",
    "discord_analytics.calculate_monthly_author_messages()\n",
    "elapsed = timeit.default_timer() - start_time\n",
    "pprint(elapsed)"
   ]
  },
  {
   "cell_type": "code",
   "execution_count": null,
   "id": "f4f949a8-334a-4345-bc04-dcd0421bce60",
   "metadata": {},
   "outputs": [],
   "source": [
    "start_time = timeit.default_timer()\n",
    "discord_analytics.calculate_monthly_bot_messages()\n",
    "elapsed = timeit.default_timer() - start_time\n",
    "pprint(elapsed)"
   ]
  },
  {
   "cell_type": "code",
   "execution_count": null,
   "id": "cc46ed4c-e8d0-4777-912e-2f997609966d",
   "metadata": {},
   "outputs": [],
   "source": [
    "start_time = timeit.default_timer()\n",
    "discord_analytics.calculate_monthly_active_authors()\n",
    "elapsed = timeit.default_timer() - start_time\n",
    "pprint(elapsed)"
   ]
  },
  {
   "cell_type": "code",
   "execution_count": null,
   "id": "2ef7962c-5a2e-4d26-9e37-1ef944307034",
   "metadata": {},
   "outputs": [],
   "source": [
    "start_time = timeit.default_timer()\n",
    "discord_analytics.calculate_monthly_active_bots()\n",
    "elapsed = timeit.default_timer() - start_time\n",
    "pprint(elapsed)"
   ]
  },
  {
   "cell_type": "code",
   "execution_count": null,
   "id": "efea71eb-3595-4eaa-9c9b-c8f4df322c0c",
   "metadata": {},
   "outputs": [],
   "source": [
    "start_time = timeit.default_timer()\n",
    "discord_analytics.calculate_normalized_month_df_column(\"msg_count_per_month\")\n",
    "elapsed = timeit.default_timer() - start_time\n",
    "pprint(elapsed)"
   ]
  },
  {
   "cell_type": "code",
   "execution_count": null,
   "id": "3c773062-df6e-494b-9a4b-a5fa3988e313",
   "metadata": {},
   "outputs": [],
   "source": [
    "start_time = timeit.default_timer()\n",
    "discord_analytics.calculate_normalized_month_df_column(\"bot_msg_count_per_month\")\n",
    "elapsed = timeit.default_timer() - start_time\n",
    "pprint(elapsed)"
   ]
  },
  {
   "cell_type": "code",
   "execution_count": null,
   "id": "fb1639c5-7f20-4ab3-8839-a6edd7bb9981",
   "metadata": {},
   "outputs": [],
   "source": [
    "start_time = timeit.default_timer()\n",
    "discord_analytics.calculate_normalized_month_df_column(\"author_count_per_month\")\n",
    "elapsed = timeit.default_timer() - start_time\n",
    "pprint(elapsed)\n"
   ]
  },
  {
   "cell_type": "code",
   "execution_count": null,
   "id": "61d25ff3-abd7-441c-a6e0-341cca311568",
   "metadata": {},
   "outputs": [],
   "source": [
    "start_time = timeit.default_timer()\n",
    "discord_analytics.calculate_normalized_month_df_column(\"bot_count_per_month\")\n",
    "elapsed = timeit.default_timer() - start_time\n",
    "pprint(elapsed)\n"
   ]
  },
  {
   "cell_type": "code",
   "execution_count": null,
   "id": "995d9c17-d748-46d0-b3c9-76ef416e5009",
   "metadata": {
    "tags": []
   },
   "outputs": [],
   "source": [
    "discord_analytics.month_df.to_csv(\"./month_df.csv\")"
   ]
  },
  {
   "cell_type": "code",
   "execution_count": null,
   "id": "20354086-052c-4713-867b-e1067d515ac3",
   "metadata": {
    "tags": []
   },
   "outputs": [],
   "source": [
    "discord_analytics.query_time_df.to_csv(\"./query_time_df.csv\")"
   ]
  }
 ],
 "metadata": {
  "kernelspec": {
   "display_name": "Python 3 (ipykernel)",
   "language": "python",
   "name": "python3"
  },
  "language_info": {
   "codemirror_mode": {
    "name": "ipython",
    "version": 3
   },
   "file_extension": ".py",
   "mimetype": "text/x-python",
   "name": "python",
   "nbconvert_exporter": "python",
   "pygments_lexer": "ipython3",
   "version": "3.11.4"
  }
 },
 "nbformat": 4,
 "nbformat_minor": 5
}
