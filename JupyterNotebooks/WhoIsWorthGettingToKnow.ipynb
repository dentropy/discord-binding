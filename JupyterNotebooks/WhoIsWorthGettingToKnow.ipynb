{
 "cells": [
  {
   "cell_type": "code",
   "execution_count": null,
   "id": "d01961e0-d33d-4eec-904c-18b283391e8c",
   "metadata": {
    "tags": []
   },
   "outputs": [],
   "source": [
    "from urllib.parse import urlparse\n",
    "import psycopg2\n",
    "import psycopg2.extras\n",
    "from pprint import pprint\n",
    "import pandas as pd\n",
    "\n",
    "import plotly.io as pio\n",
    "import plotly.express as px\n",
    "\n",
    "\n",
    "import os\n",
    "from decouple import AutoConfig\n",
    "current_directory = os.getcwd()\n",
    "parent_directory = os.path.dirname(current_directory)\n",
    "config = AutoConfig(search_path=parent_directory)\n",
    "\n",
    "\n",
    "from pathlib import Path\n",
    "path = os.path.abspath(os.getcwd())\n",
    "output_path = path + '/dataframes/' + config(\"guild_id\")\n",
    "guild_id = config(\"guild_id\")\n",
    "try:\n",
    "    path = Path(output_path)\n",
    "    path.mkdir(parents=True)\n",
    "except:\n",
    "    print(\"output_path already created\")\n",
    "\n",
    "url = urlparse(config(\"db_url\"))\n",
    "connection = psycopg2.connect(\n",
    "    host=url.hostname,\n",
    "    port=url.port,\n",
    "    database=url.path[1:],\n",
    "    user=url.username,\n",
    "    password=url.password\n",
    ")\n",
    "cursor = connection.cursor(cursor_factory = psycopg2.extras.RealDictCursor)"
   ]
  },
  {
   "cell_type": "markdown",
   "id": "362a2898-d57b-446a-9d8e-b6760476e13d",
   "metadata": {},
   "source": [
    "## What discord user has the longest average message length in a particular guild?"
   ]
  },
  {
   "cell_type": "code",
   "execution_count": null,
   "id": "1ccaa0ff-0237-46c0-9173-f0ac9194d179",
   "metadata": {
    "tags": []
   },
   "outputs": [],
   "source": [
    "query = f\"\"\"\n",
    "select \n",
    "\tauthors_t.author_name,\n",
    "\tauthors_t.nickname,\n",
    "\tavg_content_length_t.content_length,\n",
    "\tavg_content_length_t.content_count,\n",
    "\tauthors_t.id\n",
    "from \n",
    "(\n",
    "\tselect \n",
    "\t\tauthor_guild_id, \n",
    "\t\tcount(content_length) as content_count,\n",
    "\t\tAVG(content_length) as content_length\n",
    "\tfrom\n",
    "\t\tmessages_t\n",
    "\twhere\n",
    "\t\tisBot = false -- TO CHANGE\n",
    "        and guild_id = '{guild_id}'\n",
    "\tgroup by author_guild_id\n",
    ") as avg_content_length_t\n",
    "join authors_t\n",
    "on authors_t.id = avg_content_length_t.author_guild_id\n",
    "order by avg_content_length_t.content_length desc;\n",
    "\"\"\""
   ]
  },
  {
   "cell_type": "code",
   "execution_count": null,
   "id": "25672516-f99a-42c2-89e6-0f8ecdcfc828",
   "metadata": {
    "tags": []
   },
   "outputs": [],
   "source": [
    "cursor.execute(query)\n",
    "ealiest_message_per_guild_results = cursor.fetchall()\n",
    "df = pd.DataFrame.from_dict(ealiest_message_per_guild_results)"
   ]
  },
  {
   "cell_type": "code",
   "execution_count": null,
   "id": "e6cbdcde-1e2d-4e3b-adfc-403fdf6ab97e",
   "metadata": {
    "tags": []
   },
   "outputs": [],
   "source": [
    "df.to_csv(output_path + \"/What discord user has the longest average message length in a particular guild.csv\")"
   ]
  },
  {
   "cell_type": "code",
   "execution_count": null,
   "id": "ad81737b-3335-4f8c-939d-55e35813c236",
   "metadata": {},
   "outputs": [],
   "source": [
    "df"
   ]
  },
  {
   "cell_type": "markdown",
   "id": "68c9b5e7-921c-478e-8195-48c4f008bc2c",
   "metadata": {},
   "source": [
    "## What discord user sent the most messages in a particular discord guild?"
   ]
  },
  {
   "cell_type": "code",
   "execution_count": null,
   "id": "99457a2f-85e1-43c1-8f9d-0040b254f803",
   "metadata": {},
   "outputs": [],
   "source": [
    "query = f\"\"\"\n",
    "select\n",
    "\tauthors_t.author_name,\n",
    "\tauthors_t.nickname,\n",
    "\tmsg_count_per_author_t.msg_count,\n",
    "\tmsg_count_per_author_t.author_guild_id,\n",
    "\tguilds_t.guild_name,\n",
    "\tguilds_t.id as guild_id\n",
    "from\n",
    "(\n",
    "\tselect\n",
    "\t\tcount(content) as msg_count,\n",
    "\t\tauthor_guild_id\n",
    "\tfrom\n",
    "\t\tmessages_t\n",
    "    where guild_id = '{guild_id}'\n",
    "\tgroup by author_guild_id\n",
    "\torder by msg_count desc\n",
    ") as msg_count_per_author_t\n",
    "join authors_t on msg_count_per_author_t.author_guild_id = authors_t.id\n",
    "join guilds_t  on authors_t.guild_id = guilds_t.id\n",
    "order by msg_count_per_author_t.msg_count desc;\n",
    "\"\"\""
   ]
  },
  {
   "cell_type": "code",
   "execution_count": null,
   "id": "3266d33c-d4cc-4780-8a1c-4b5b1fd05f3e",
   "metadata": {},
   "outputs": [],
   "source": [
    "cursor.execute(query)\n",
    "ealiest_message_per_guild_results = cursor.fetchall()\n",
    "df = pd.DataFrame.from_dict(ealiest_message_per_guild_results)"
   ]
  },
  {
   "cell_type": "code",
   "execution_count": null,
   "id": "24993080-6747-4ef1-a029-99c8edb0607c",
   "metadata": {},
   "outputs": [],
   "source": [
    "df.to_csv(output_path + \"/What discord user sent the most messages in a particular discord guild.csv\")"
   ]
  },
  {
   "cell_type": "markdown",
   "id": "381bad74-e2dd-4c4f-8205-f7eaedb4f57b",
   "metadata": {},
   "source": [
    "## Who is the most consistent poster within a Discord Guild?"
   ]
  },
  {
   "cell_type": "code",
   "execution_count": null,
   "id": "617b7be7-3f78-4b7a-b373-2655435f0569",
   "metadata": {},
   "outputs": [],
   "source": [
    "query = f\"\"\"\n",
    "\n",
    "select\n",
    "\tauthors_t.author_name,\n",
    "\tauthors_t.nickname,\n",
    "\tcount_msg_day_t.day_count,\n",
    "\tcount_msg_day_t.author_guild_id,\n",
    "\tguilds_t.guild_name,\n",
    "\tguilds_t.id as guild_id\n",
    "from\n",
    "(\n",
    "\tselect\n",
    "\t\tcount(distinct_msg_day_t.num_days_posted) as day_count,\n",
    "\t\tdistinct_msg_day_t.author_guild_id\n",
    "\tfrom \n",
    "\t(\n",
    "\t\tSELECT \n",
    "\t\t\tdistinct ( TO_CHAR(msg_timestamp, 'YYYY-MM-DD') )  as num_days_posted,\n",
    "\t\t\tauthor_guild_id\n",
    "\t\tfrom\n",
    "\t\t\tmessages_t\n",
    "        where guild_id = '{guild_id}'\n",
    "\t) as distinct_msg_day_t\n",
    "\tgroup by distinct_msg_day_t.author_guild_id\n",
    "\torder by distinct_msg_day_t.author_guild_id desc\n",
    ") as count_msg_day_t\n",
    "join authors_t on count_msg_day_t.author_guild_id = authors_t.id\n",
    "join guilds_t on authors_t.guild_id = guilds_t.id \n",
    "order by day_count desc;\n",
    "\n",
    "\"\"\""
   ]
  },
  {
   "cell_type": "code",
   "execution_count": null,
   "id": "76cd0c03-3fb6-400a-8ff9-b629033074c9",
   "metadata": {},
   "outputs": [],
   "source": [
    "cursor.execute(query)\n",
    "ealiest_message_per_guild_results = cursor.fetchall()\n",
    "df = pd.DataFrame.from_dict(ealiest_message_per_guild_results)"
   ]
  },
  {
   "cell_type": "code",
   "execution_count": null,
   "id": "6ac7408c-30a3-466f-8248-ce0a3495efe7",
   "metadata": {},
   "outputs": [],
   "source": [
    "df.to_csv(output_path + \"/Who is the most consistent poster within a Discord Guild.csv\")"
   ]
  },
  {
   "cell_type": "code",
   "execution_count": null,
   "id": "5a857200-dbdf-4433-9436-4221f1c926fa",
   "metadata": {},
   "outputs": [],
   "source": [
    "df"
   ]
  },
  {
   "cell_type": "markdown",
   "id": "7de027ce-5403-425b-aca2-04a46dbd370f",
   "metadata": {},
   "source": [
    "## What discord author got the most reactions to their messages?"
   ]
  },
  {
   "cell_type": "code",
   "execution_count": null,
   "id": "f3ee6ae6-7d78-4ceb-b7c8-6de49dcc3ac7",
   "metadata": {},
   "outputs": [],
   "source": [
    "query = f\"\"\"\n",
    "select\n",
    "\tauthors_t.author_name,\n",
    "\tauthors_t.nickname, \n",
    "\treaction_count_t.reaction_count,\n",
    "\tguilds_t.guild_name,\n",
    "\treaction_count_t.author_guild_id,\n",
    "\tguilds_t.id as guild_id\n",
    "from\n",
    "(\n",
    "\tselect \n",
    "\t\tauthor_guild_id,\n",
    "\t\tsum(count) as reaction_count\n",
    "\tfrom\n",
    "\t\treactions_t\n",
    "    where guild_id = '{guild_id}'\n",
    "\tgroup by author_guild_id\n",
    ") as reaction_count_t\n",
    "join authors_t on reaction_count_t.author_guild_id = authors_t.id\n",
    "join guilds_t  on authors_t.guild_id = guilds_t.id\n",
    "order by reaction_count desc;\n",
    "\"\"\""
   ]
  },
  {
   "cell_type": "code",
   "execution_count": null,
   "id": "02220029-fb7d-440a-9f15-11f276b4e804",
   "metadata": {},
   "outputs": [],
   "source": [
    "cursor.execute(query)\n",
    "ealiest_message_per_guild_results = cursor.fetchall()\n",
    "df = pd.DataFrame.from_dict(ealiest_message_per_guild_results)"
   ]
  },
  {
   "cell_type": "code",
   "execution_count": null,
   "id": "a476447f-e2a1-4397-8996-c3ec7a92d9e9",
   "metadata": {},
   "outputs": [],
   "source": [
    "df.to_csv(output_path + \"/What discord author got the most reactions to their messages.csv\")"
   ]
  },
  {
   "cell_type": "code",
   "execution_count": null,
   "id": "ed109ca4-6954-409a-9770-f816c62cb646",
   "metadata": {},
   "outputs": [],
   "source": [
    "df"
   ]
  },
  {
   "cell_type": "markdown",
   "id": "249dcfc3-490c-43c2-bdd1-848fc92c3167",
   "metadata": {},
   "source": [
    "## What discord author got the most distinct reactions to their messages?"
   ]
  },
  {
   "cell_type": "code",
   "execution_count": null,
   "id": "982c9dc8-743b-43e0-9b10-0fea5bc04a1e",
   "metadata": {},
   "outputs": [],
   "source": [
    "query = f\"\"\"\n",
    "select\n",
    "\tauthors_t.author_name,\n",
    "\tauthors_t.nickname, \n",
    "\treaction_count_t.reaction_count,\n",
    "\tguilds_t.guild_name,\n",
    "\treaction_count_t.author_guild_id,\n",
    "\tguilds_t.id as guild_id\n",
    "from\n",
    "(\n",
    "\tselect \n",
    "\t\tauthor_guild_id,\n",
    "\t\tcount(distinct(count)) as reaction_count\n",
    "\tfrom\n",
    "\t\treactions_t\n",
    "    where guild_id = '{guild_id}'\n",
    "\tgroup by author_guild_id\n",
    ") as reaction_count_t\n",
    "join authors_t on reaction_count_t.author_guild_id = authors_t.id\n",
    "join guilds_t  on authors_t.guild_id = guilds_t.id\n",
    "order by reaction_count desc;\n",
    "\"\"\""
   ]
  },
  {
   "cell_type": "code",
   "execution_count": null,
   "id": "469852e9-83e0-465b-84f0-c3f9e311f8a1",
   "metadata": {},
   "outputs": [],
   "source": [
    "cursor.execute(query)\n",
    "ealiest_message_per_guild_results = cursor.fetchall()\n",
    "df = pd.DataFrame.from_dict(ealiest_message_per_guild_results)"
   ]
  },
  {
   "cell_type": "code",
   "execution_count": null,
   "id": "b3aeb4ec-c55d-4fc7-b2e8-18ca75fdd3dd",
   "metadata": {},
   "outputs": [],
   "source": [
    "df.to_csv(output_path + \"/What discord author got the most distinct reactions to their messages.csv\")"
   ]
  },
  {
   "cell_type": "code",
   "execution_count": null,
   "id": "714d9a93-2713-4624-aa3e-49c41a349526",
   "metadata": {},
   "outputs": [],
   "source": [
    "df"
   ]
  },
  {
   "cell_type": "markdown",
   "id": "1976b00c-c2b5-4b7f-9b10-e2fb7bec3e39",
   "metadata": {},
   "source": [
    "## What discord user has the highest spike in activity?"
   ]
  },
  {
   "cell_type": "code",
   "execution_count": null,
   "id": "9b918b0f-a9ca-4a19-bcbd-ac0ebb8a5c5a",
   "metadata": {},
   "outputs": [],
   "source": [
    "query = \"\"\"\n",
    "select \n",
    "\tauthors_t.author_name,\n",
    "\tauthors_t.nickname,\n",
    "\tmsg_date_agg_t.day_msg_count,\n",
    "\tmsg_date_agg_t.author_guild_id,\n",
    "\tguilds_t.guild_name,\n",
    "\tguilds_t.id as guild_id\n",
    "from\n",
    "(\n",
    "\tselect\n",
    "\t\tcount(msg_date_t.msg_date) as day_msg_count,\n",
    "\t\tmsg_date_t.msg_date,\n",
    "\t\tmsg_date_t.author_guild_id\n",
    "\tfrom\n",
    "\t(\n",
    "\t\tSELECT\n",
    "\t\t\tTO_CHAR(msg_timestamp, 'YYYY-MM-DD') as msg_date,\n",
    "\t\t\tauthor_guild_id\n",
    "\t\tfrom\n",
    "\t\t\tmessages_t\n",
    "\t) as msg_date_t\n",
    "\tgroup by msg_date_t.msg_date, msg_date_t.author_guild_id\n",
    ") as msg_date_agg_t\n",
    "join authors_t on msg_date_agg_t.author_guild_id = authors_t.id\n",
    "join guilds_t on authors_t.guild_id = guilds_t.id\n",
    "order by day_msg_count desc;\n",
    "\"\"\""
   ]
  },
  {
   "cell_type": "code",
   "execution_count": null,
   "id": "db866308-ab92-423c-b00b-c33101c26d4b",
   "metadata": {},
   "outputs": [],
   "source": [
    "cursor.execute(query)\n",
    "ealiest_message_per_guild_results = cursor.fetchall()\n",
    "df = pd.DataFrame.from_dict(ealiest_message_per_guild_results)"
   ]
  },
  {
   "cell_type": "code",
   "execution_count": null,
   "id": "ad2e8072-b01b-4697-a32b-fa7983369f0f",
   "metadata": {},
   "outputs": [],
   "source": [
    "df.to_csv(output_path + \"/What discord user has the highest spike in activity.csv\")"
   ]
  },
  {
   "cell_type": "code",
   "execution_count": null,
   "id": "c1fe5439-87e0-4270-8eaa-42cfc7ca3d6c",
   "metadata": {},
   "outputs": [],
   "source": [
    "df"
   ]
  },
  {
   "cell_type": "markdown",
   "id": "7fa3a0a8-687d-4938-84ec-5dfcbcc57914",
   "metadata": {},
   "source": [
    "## What discord user was the most active for a particular date range within a particular discord guild?"
   ]
  },
  {
   "cell_type": "code",
   "execution_count": null,
   "id": "9fa24142-815e-41ad-b175-aac99cc79505",
   "metadata": {},
   "outputs": [],
   "source": [
    "query = f\"\"\"\n",
    "select\n",
    "\tauthors_t.author_name,\n",
    "\tauthors_t.nickname,\n",
    "\tmsg_count_per_author_t.msg_count,\n",
    "\tmsg_count_per_author_t.author_guild_id,\n",
    "\tguilds_t.guild_name,\n",
    "\tguilds_t.id as guild_id\n",
    "from\n",
    "(\n",
    "\tselect\n",
    "\t\tcount(content) as msg_count,\n",
    "\t\tauthor_guild_id\n",
    "\tfrom\n",
    "\t\tmessages_t\n",
    "\twhere\n",
    "\t\tmsg_timestamp > to_date('2023-10-01', 'YYYY-MM-DD')\n",
    "\t\tand msg_timestamp < to_date('2023-10-12', 'YYYY-MM-DD') \n",
    "        and guild_id = '{guild_id}'\n",
    "\tgroup by author_guild_id\n",
    "\torder by msg_count desc\n",
    ") as msg_count_per_author_t\n",
    "join authors_t on msg_count_per_author_t.author_guild_id = authors_t.id\n",
    "join guilds_t  on authors_t.guild_id = guilds_t.id\n",
    "order by msg_count_per_author_t.msg_count desc;\n",
    "\"\"\""
   ]
  },
  {
   "cell_type": "code",
   "execution_count": null,
   "id": "a8c8b114-d227-4921-9da9-49bfd4f65f03",
   "metadata": {},
   "outputs": [],
   "source": [
    "cursor.execute(query)\n",
    "ealiest_message_per_guild_results = cursor.fetchall()\n",
    "df = pd.DataFrame.from_dict(ealiest_message_per_guild_results)"
   ]
  },
  {
   "cell_type": "code",
   "execution_count": null,
   "id": "2d7e7357-5fda-4690-9032-3f5d76e43185",
   "metadata": {},
   "outputs": [],
   "source": [
    "df.to_csv(output_path + \"/What discord user was the most active for a particular date range within a particular discord guild.csv\")"
   ]
  },
  {
   "cell_type": "code",
   "execution_count": null,
   "id": "54d5ebc8-f2d4-475c-87d7-c068f263ef75",
   "metadata": {},
   "outputs": [],
   "source": [
    "df"
   ]
  },
  {
   "cell_type": "markdown",
   "id": "82e73404-030d-4273-9bad-80b512da2589",
   "metadata": {},
   "source": [
    "## Who sent the most attachments?"
   ]
  },
  {
   "cell_type": "code",
   "execution_count": null,
   "id": "67b4149f-2e29-42d6-bf79-72fee6b21d1a",
   "metadata": {},
   "outputs": [],
   "source": [
    "query = f\"\"\"\n",
    "select\n",
    "\tauthors_t.author_name,\n",
    "\tauthors_t.nickname,\n",
    "\tattachment_msg_count_t.attachment_msg_count,\n",
    "\tguilds_t.guild_name,\n",
    "\tattachment_msg_count_t.author_guild_id,\n",
    "\tguilds_t.id as guild_id\n",
    "from\n",
    "(\n",
    "\tselect \n",
    "\t\tcount(*) attachment_msg_count,\n",
    "\t\tauthor_guild_id\n",
    "\tfrom attachments_t\n",
    "    where guild_id = '{guild_id}'\n",
    "\tgroup by author_guild_id\n",
    ") as attachment_msg_count_t\n",
    "join authors_t on attachment_msg_count_t.author_guild_id = authors_t.id\n",
    "join guilds_t  on authors_t.guild_id = guilds_t.id\n",
    "order by attachment_msg_count_t.attachment_msg_count desc;\n",
    "\"\"\""
   ]
  },
  {
   "cell_type": "code",
   "execution_count": null,
   "id": "c3384051-14c8-4505-a1ae-6c6af5ffe9fa",
   "metadata": {},
   "outputs": [],
   "source": [
    "cursor.execute(query)\n",
    "ealiest_message_per_guild_results = cursor.fetchall()\n",
    "df = pd.DataFrame.from_dict(ealiest_message_per_guild_results)"
   ]
  },
  {
   "cell_type": "code",
   "execution_count": null,
   "id": "910d1195-8d66-4022-a53e-99dfa145b525",
   "metadata": {},
   "outputs": [],
   "source": [
    "df.to_csv(output_path + \"/Who sent the most attachments?.csv\")"
   ]
  },
  {
   "cell_type": "code",
   "execution_count": null,
   "id": "f16f6989-122c-4e75-a530-241862dbc930",
   "metadata": {},
   "outputs": [],
   "source": [
    "df"
   ]
  },
  {
   "cell_type": "markdown",
   "id": "c2171769-97f5-417a-a636-54129bb5733d",
   "metadata": {},
   "source": [
    "## What discord author edits the highest percentage of their messages within a particular discord guild?"
   ]
  },
  {
   "cell_type": "code",
   "execution_count": null,
   "id": "90d93973-0ecd-4362-99ce-599f69fa7c61",
   "metadata": {},
   "outputs": [],
   "source": [
    "query = f\"\"\"\n",
    "select\n",
    "\tauthors_t.author_name,\n",
    "\tauthors_t.nickname,\n",
    "\tmsg_timestamp_edited_count_t.msg_timestamp_edited_count,\n",
    "\tauthor_msg_count_t.msg_count,\n",
    "\tmsg_timestamp_edited_count_t.msg_timestamp_edited_count::FLOAT  / author_msg_count_t.msg_count::FLOAT  * 100 as msg_edited_percentage,\n",
    "\tmsg_timestamp_edited_count_t.author_guild_id,\n",
    "\tguilds_t.guild_name,\n",
    "\tguilds_t.id as guild_id\n",
    "from\n",
    "(\n",
    "\tselect \n",
    "\t\tcount(*) as msg_timestamp_edited_count,\n",
    "\t\tauthor_guild_id\n",
    "\tfrom \n",
    "\t\tmessages_t\n",
    "\twhere\n",
    "\t\tmsg_timestampedited is not null -- TO CHANGE\n",
    "        and guild_id = '{guild_id}'\n",
    "\tgroup by author_guild_id\n",
    ") as msg_timestamp_edited_count_t\n",
    "join (\n",
    "\tselect \n",
    "\t\tcount(*) as msg_count,\n",
    "\t\tauthor_guild_id\n",
    "\tfrom \n",
    "\t\tmessages_t\n",
    "    where guild_id = '{guild_id}'\n",
    "\tgroup by author_guild_id\n",
    ") as author_msg_count_t on author_msg_count_t.author_guild_id = msg_timestamp_edited_count_t.author_guild_id\n",
    "join authors_t on msg_timestamp_edited_count_t.author_guild_id = authors_t.id\n",
    "join guilds_t  on authors_t.guild_id = guilds_t.id\n",
    "where msg_count > 1\n",
    "order by msg_edited_percentage desc;\n",
    "\"\"\""
   ]
  },
  {
   "cell_type": "code",
   "execution_count": null,
   "id": "a2437fcf-d831-447b-8c89-b9a4b191b25b",
   "metadata": {},
   "outputs": [],
   "source": [
    "cursor.execute(query)\n",
    "ealiest_message_per_guild_results = cursor.fetchall()\n",
    "df = pd.DataFrame.from_dict(ealiest_message_per_guild_results)"
   ]
  },
  {
   "cell_type": "code",
   "execution_count": null,
   "id": "4bec2b4f-ce17-43e6-8d4c-9266b3c9ad0e",
   "metadata": {},
   "outputs": [],
   "source": [
    "df.to_csv(output_path + \"/What discord author edits the highest percentage of their messages within a particular discord guild.csv\")"
   ]
  },
  {
   "cell_type": "code",
   "execution_count": null,
   "id": "bd678ed5-3c1b-4a19-89c6-29fd3f94267c",
   "metadata": {
    "tags": []
   },
   "outputs": [],
   "source": [
    "df"
   ]
  }
 ],
 "metadata": {
  "kernelspec": {
   "display_name": "Python 3 (ipykernel)",
   "language": "python",
   "name": "python3"
  },
  "language_info": {
   "codemirror_mode": {
    "name": "ipython",
    "version": 3
   },
   "file_extension": ".py",
   "mimetype": "text/x-python",
   "name": "python",
   "nbconvert_exporter": "python",
   "pygments_lexer": "ipython3",
   "version": "3.11.4"
  }
 },
 "nbformat": 4,
 "nbformat_minor": 5
}
