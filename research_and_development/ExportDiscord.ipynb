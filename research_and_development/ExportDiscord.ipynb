{
 "cells": [
  {
   "cell_type": "code",
   "execution_count": null,
   "id": "0e7bd39b-e4f9-4b24-8423-1eae768a593a",
   "metadata": {},
   "outputs": [],
   "source": [
    "from ExportDiscord import ExportDiscord"
   ]
  },
  {
   "cell_type": "code",
   "execution_count": null,
   "id": "f3e41baf-81c7-47ff-b2e3-8dde00b871bf",
   "metadata": {},
   "outputs": [],
   "source": [
    "ex_dis = ExportDiscord()"
   ]
  },
  {
   "cell_type": "code",
   "execution_count": null,
   "id": "a255baed-ef7b-4335-a8e8-df380bb211b0",
   "metadata": {},
   "outputs": [],
   "source": [
    "ex_dis.create_raw_json_table(\"raw_guilds\")\n",
    "ex_dis.create_raw_json_table(\"raw_channels\")\n",
    "ex_dis.create_raw_json_table(\"raw_messages\")"
   ]
  },
  {
   "cell_type": "code",
   "execution_count": null,
   "id": "ef6b1bf7-1a9e-4a60-a7ac-b1d3dd1ddbc7",
   "metadata": {},
   "outputs": [],
   "source": [
    "import numpy as np\n",
    "import pandas as pd\n",
    "from pprint import pprint\n",
    "import os\n",
    "import glob\n",
    "import json\n",
    "import numpy\n",
    "\n",
    "base_directory = \"/home/paul/Projects/DiscordScraping/Colony\"\n",
    "\n",
    "# Recursively find all JSON files in the directory and its subdirectories\n",
    "json_files = glob.glob(os.path.join(base_directory, '*.json'), recursive=True)\n",
    "\n",
    "guilds = []\n",
    "channels = []\n",
    "messages = []\n",
    "# Parts of a message\n",
    "authors = {}\n",
    "roles = []\n",
    "attachments = []\n",
    "embeds = []\n",
    "stickers = []\n",
    "reactions = []\n",
    "mentions = []\n",
    "for json_file_path in json_files:\n",
    "    with open(json_file_path, 'r') as json_file:\n",
    "        try:\n",
    "            print(f\"Processing {json_file}\")\n",
    "            data = json.load(json_file)\n",
    "        except Exception as e:\n",
    "            continue\n",
    "    guilds.append(data[\"guild\"])\n",
    "    data[\"channel\"][\"guild_id\"] = data[\"guild\"][\"id\"]\n",
    "    channels.append(data[\"channel\"])\n",
    "    for message in data[\"messages\"]:\n",
    "        if \"roles\" in message[\"author\"].keys():\n",
    "            if message[\"author\"][\"roles\"] != []:\n",
    "                for role in message[\"author\"][\"roles\"]:\n",
    "                    role[\"user_id\"] = message[\"author\"]\n",
    "                    roles.append(role)\n",
    "            del message[\"author\"][\"roles\"]   \n",
    "        authors[message[\"author\"][\"id\"]] = message[\"author\"]\n",
    "        message[\"author\"] = message[\"author\"][\"id\"]\n",
    "        if message[\"attachments\"] != []:\n",
    "            for attachment in message[\"attachments\"]:\n",
    "                attachment[\"message_id\"] = message[\"id\"]\n",
    "                attachments.append(attachment)\n",
    "            message[\"attachments\"] = True\n",
    "        else:\n",
    "            message[\"attachments\"] = False\n",
    "        if message[\"embeds\"] != []:\n",
    "            for embed in message[\"embeds\"]:\n",
    "                embed[\"message_id\"] = message[\"id\"]\n",
    "                if \"image\" not in embed.keys():\n",
    "                    embed[\"image\"] = \"\"\n",
    "                if \"footer\" not in embed.keys():\n",
    "                    embed[\"footer\"] = \"\"\n",
    "                embeds.append(embed)\n",
    "            message[\"embeds\"] = True\n",
    "        else:\n",
    "            message[\"embeds\"] = False\n",
    "        if \"stickers\" in message.keys():\n",
    "            if message[\"stickers\"] != []:\n",
    "                for sticker in message[\"stickers\"]:\n",
    "                    sticker[\"message_id\"] = message[\"id\"]\n",
    "                    stickers.append(sticker)\n",
    "                message[\"stickers\"] = True\n",
    "            else:\n",
    "                message[\"stickers\"] = False\n",
    "        if message[\"reactions\"] != []:\n",
    "            for reaction in message[\"reactions\"]:\n",
    "                reaction[\"message_id\"] = message[\"id\"]\n",
    "                reactions.append(reaction)\n",
    "            message[\"reactions\"] = True\n",
    "        else:\n",
    "            message[\"reactions\"] = False\n",
    "        if message[\"mentions\"] != []:\n",
    "            for mention in message[\"mentions\"]:\n",
    "                mention[\"message_id\"] = message[\"id\"]\n",
    "                mentions.append(mention)\n",
    "            message[\"mentions\"] = True\n",
    "        else:\n",
    "            message[\"mentions\"] = False\n",
    "        if \"reference\" in message.keys():\n",
    "            message[\"reference\"] = json.dumps(message[\"reference\"])\n",
    "        else:\n",
    "            message[\"reference\"] = \"\"\n",
    "        messages.append(message)\n",
    "\n",
    "        "
   ]
  },
  {
   "cell_type": "code",
   "execution_count": null,
   "id": "45264606-5635-48ed-95b4-7339d72225a1",
   "metadata": {},
   "outputs": [],
   "source": [
    "for guild in guilds:\n",
    "    ex_dis.cur.execute('INSERT INTO raw_guilds_t (raw_json) VALUES (?)', (json.dumps(guild),))"
   ]
  },
  {
   "cell_type": "code",
   "execution_count": null,
   "id": "4cdf9269-2da6-4b94-bb0d-91901c42bfe0",
   "metadata": {},
   "outputs": [],
   "source": [
    "for message in messages:\n",
    "    ex_dis.cur.execute('INSERT INTO raw_guilds_t (raw_json) VALUES (?)', (json.dumps(guild),))"
   ]
  }
 ],
 "metadata": {
  "kernelspec": {
   "display_name": "Python 3 (ipykernel)",
   "language": "python",
   "name": "python3"
  },
  "language_info": {
   "codemirror_mode": {
    "name": "ipython",
    "version": 3
   },
   "file_extension": ".py",
   "mimetype": "text/x-python",
   "name": "python",
   "nbconvert_exporter": "python",
   "pygments_lexer": "ipython3",
   "version": "3.10.12"
  }
 },
 "nbformat": 4,
 "nbformat_minor": 5
}
