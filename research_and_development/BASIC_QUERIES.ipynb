{
 "cells": [
  {
   "cell_type": "code",
   "execution_count": null,
   "id": "711d5c5c-ba7b-4a1d-ad07-82232028e751",
   "metadata": {
    "tags": []
   },
   "outputs": [],
   "source": [
    "import glob\n",
    "import os\n",
    "from pprint import pprint\n",
    "import sqlite3\n",
    "import json\n",
    "from dotenv import load_dotenv\n",
    "current_directory = os.getcwd()\n",
    "parent_directory = os.path.dirname(current_directory)\n",
    "load_dotenv(path=parent_directory)\n",
    "\n",
    "# Specify the directory path and the pattern to match all files (e.g., * for all files)\n",
    "\n",
    "directory_path = os.environ.get(\"guilds_out\")\n",
    "pattern = '*.sqlite'\n",
    "\n",
    "# LIST_GUILDS\n",
    "\n",
    "sqlite_paths = glob.glob(os.path.join(directory_path, pattern))\n",
    "pprint(sqlite_paths)\n",
    "for file in sqlite_paths:\n",
    "    pprint(file)\n",
    "    tmp_conn = sqlite3.connect(file)\n",
    "    tmp_cursor = tmp_conn.cursor()\n",
    "    query = '''\n",
    "        SELECT\n",
    "            json_extract(raw_json, '$.id') as guild_id,\n",
    "            json_extract(raw_json, '$.name') as guild_name\n",
    "        FROM\n",
    "            raw_guilds_t\n",
    "        LIMIT 1\n",
    "    '''\n",
    "    tmp_cursor.execute(query)\n",
    "    data = tmp_cursor.fetchall()\n",
    "    pprint(data)\n",
    "    tmp_cursor.close()\n",
    "    tmp_conn.close()\n",
    "    print(\"\\n\")\n",
    "    \n",
    "# Connect to the SQLite database file\n",
    "\n",
    "sqlite_path = sqlite_paths[0] #os.environ.get(\"db_url\")\n",
    "pprint(sqlite_path)\n",
    "conn = sqlite3.connect(sqlite_path)\n",
    "\n",
    "# Create a cursor object\n",
    "cursor = conn.cursor()"
   ]
  },
  {
   "cell_type": "code",
   "execution_count": 6,
   "id": "a378e272-0883-4ced-977c-436964d6fc74",
   "metadata": {},
   "outputs": [
    {
     "data": {
      "text/plain": [
       "'/home/paul/Projects/discord-binding'"
      ]
     },
     "execution_count": 6,
     "metadata": {},
     "output_type": "execute_result"
    }
   ],
   "source": [
    "import os\n",
    "current_directory = os.getcwd()\n",
    "parent_directory = os.path.dirname(current_directory)\n",
    "parent_directory"
   ]
  },
  {
   "cell_type": "code",
   "execution_count": null,
   "id": "906fdc64-7dcf-4f1e-a131-2640ca025efb",
   "metadata": {},
   "outputs": [],
   "source": [
    "# Execute an SQL query\n",
    "cursor.execute(\"\"\"SELECT \n",
    "    name\n",
    "FROM \n",
    "    sqlite_schema\n",
    "WHERE \n",
    "    type ='table' AND \n",
    "    name NOT LIKE 'sqlite_%';\"\"\")\n",
    "\n",
    "# Fetch all the data\n",
    "data = cursor.fetchall()\n",
    "\n",
    "# Iterate through the data and print it\n",
    "pprint(data)"
   ]
  },
  {
   "cell_type": "code",
   "execution_count": null,
   "id": "99c43b8a-feac-4787-ac8d-9bdb4e060917",
   "metadata": {
    "tags": []
   },
   "outputs": [],
   "source": [
    "# Execute an SQL query\n",
    "cursor.execute(\"\"\"SELECT * FROM raw_messages_t LIMIT 5;\"\"\")\n",
    "\n",
    "# Fetch all the data\n",
    "data = cursor.fetchall()\n",
    "\n",
    "# Iterate through the data and print it\n",
    "pprint(data)"
   ]
  },
  {
   "cell_type": "code",
   "execution_count": null,
   "id": "7d7321a1-3cdc-4dbb-b8ca-cf58f6f79cb0",
   "metadata": {},
   "outputs": [],
   "source": [
    "# LIST_USERS\n",
    "\n",
    "query = '''\n",
    "SELECT\n",
    "    DISTINCT( json_extract(raw_json, '$.id') ) as user_id,\n",
    "    json_extract(raw_json, '$.name') as usenamer_id,\n",
    "    json_extract(raw_json, '$.is_bot') as is_bot\n",
    "FROM\n",
    "    raw_authors_t\n",
    "LIMIT 5\n",
    "'''\n",
    "cursor.execute(query)\n",
    "users = cursor.fetchall()\n",
    "pprint(len(users))\n",
    "pprint(users[0:5])"
   ]
  },
  {
   "cell_type": "code",
   "execution_count": null,
   "id": "eef4a8df-6e1d-4082-aab0-5b0f71400c71",
   "metadata": {},
   "outputs": [],
   "source": [
    "# LIST_USERS_WITH_ROLES\n",
    "\n",
    "query = '''\n",
    "SELECT\n",
    "    DISTINCT\n",
    "    user_id,\n",
    "    usenamer_id,\n",
    "    json_extract(raw_roles_t.raw_json, '$.id'),\n",
    "    json_extract(raw_roles_t.raw_json, '$.name')\n",
    "FROM \n",
    "    raw_roles_t\n",
    "JOIN (\n",
    "    SELECT\n",
    "        DISTINCT( json_extract(raw_authors_t.raw_json, '$.id') ) as user_id,\n",
    "        json_extract(raw_authors_t.raw_json, '$.name') as usenamer_id,\n",
    "        json_extract(raw_authors_t.raw_json, '$.isBot') as isBot\n",
    "    FROM\n",
    "        raw_authors_t\n",
    "    ) as authors_t\n",
    "ON\n",
    "    authors_t.user_id = \n",
    "    json_extract(raw_roles_t.raw_json, '$.user_id.id')\n",
    "'''\n",
    "cursor.execute(query)\n",
    "users = cursor.fetchall()\n",
    "pprint(len(users))\n",
    "pprint(users[0:5])"
   ]
  },
  {
   "cell_type": "code",
   "execution_count": null,
   "id": "a7ccca2f-b3fe-4dbc-8c78-c9b323991fe4",
   "metadata": {},
   "outputs": [],
   "source": [
    "# LIST_CHANNELS\n",
    "\n",
    "query = '''\n",
    "SELECT\n",
    "    DISTINCT(json_extract(raw_json, '$.id')) as channel_id,\n",
    "    (json_extract(raw_json, '$.type')) as type,\n",
    "    (json_extract(raw_json, '$.category')) as category,\n",
    "    (json_extract(raw_json, '$.name')) as name\n",
    "FROM\n",
    "    raw_channels_t\n",
    "'''\n",
    "cursor.execute(query)\n",
    "data = cursor.fetchall()\n",
    "pprint(len(data))\n",
    "pprint(data[0:5])"
   ]
  }
 ],
 "metadata": {
  "kernelspec": {
   "display_name": "Python 3 (ipykernel)",
   "language": "python",
   "name": "python3"
  },
  "language_info": {
   "codemirror_mode": {
    "name": "ipython",
    "version": 3
   },
   "file_extension": ".py",
   "mimetype": "text/x-python",
   "name": "python",
   "nbconvert_exporter": "python",
   "pygments_lexer": "ipython3",
   "version": "3.10.12"
  }
 },
 "nbformat": 4,
 "nbformat_minor": 5
}
