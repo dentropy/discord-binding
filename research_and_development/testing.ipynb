{
 "cells": [
  {
   "cell_type": "code",
   "execution_count": null,
   "id": "f7e4bb7d-1fcb-436e-a967-02d8f33f92a5",
   "metadata": {},
   "outputs": [],
   "source": [
    "import process_discord_json\n",
    "\n",
    "guild_data = process_discord_json.process_discord_json( \"/home/paul/Projects/DiscordScraping/Colony\")"
   ]
  },
  {
   "cell_type": "code",
   "execution_count": null,
   "id": "d77c55db-335f-4077-b69b-e4223f484463",
   "metadata": {},
   "outputs": [],
   "source": [
    "import os\n",
    "os.getcwd()"
   ]
  },
  {
   "cell_type": "code",
   "execution_count": null,
   "id": "e94c7a74-1750-408e-9fd8-b44ced7ca46e",
   "metadata": {},
   "outputs": [],
   "source": [
    "from ExportDiscord import ExportDiscord\n",
    "ex_dis = ExportDiscord()"
   ]
  },
  {
   "cell_type": "code",
   "execution_count": null,
   "id": "2953f83b-c176-44d8-93b6-d25dd59d8536",
   "metadata": {},
   "outputs": [],
   "source": [
    "guild_data.keys()"
   ]
  },
  {
   "cell_type": "code",
   "execution_count": null,
   "id": "71b2f402-6e2f-475f-9b16-989602be1b26",
   "metadata": {},
   "outputs": [],
   "source": [
    "for tbd_table in guild_data.keys():\n",
    "    ex_dis.create_raw_json_table(\"raw_\" + tbd_table)"
   ]
  },
  {
   "cell_type": "code",
   "execution_count": null,
   "id": "812a790c-5bcc-4392-a8a4-44d6e5e805ce",
   "metadata": {},
   "outputs": [],
   "source": [
    "import json\n",
    "import sqlite3\n",
    "import time\n",
    "for tbd_table_name in guild_data.keys():\n",
    "    for tbd_row in guild_data[tbd_table_name]:\n",
    "        retries = 0\n",
    "        max_retries = 3\n",
    "        retry_delay = 0.3\n",
    "        while retries < max_retries:\n",
    "            try:\n",
    "                ex_dis.cur.execute( f'INSERT INTO raw_{tbd_table_name}_t (raw_json) VALUES (?)', (json.dumps(tbd_row),)).fetchall()\n",
    "                ex_dis.con.commit()\n",
    "                break\n",
    "            except sqlite3.OperationalError as e:\n",
    "                if \"database is locked\" in str(e):\n",
    "                    retries += 1\n",
    "                    time.sleep(retry_delay)\n",
    "                else:\n",
    "                    raise\n",
    "        else:\n",
    "            raise Exception(\"Max retries exceeded\")\n"
   ]
  },
  {
   "cell_type": "code",
   "execution_count": null,
   "id": "f4515de0-d205-458e-9f47-eea7059e8985",
   "metadata": {},
   "outputs": [],
   "source": []
  }
 ],
 "metadata": {
  "kernelspec": {
   "display_name": "Python 3 (ipykernel)",
   "language": "python",
   "name": "python3"
  },
  "language_info": {
   "codemirror_mode": {
    "name": "ipython",
    "version": 3
   },
   "file_extension": ".py",
   "mimetype": "text/x-python",
   "name": "python",
   "nbconvert_exporter": "python",
   "pygments_lexer": "ipython3",
   "version": "3.10.12"
  }
 },
 "nbformat": 4,
 "nbformat_minor": 5
}
