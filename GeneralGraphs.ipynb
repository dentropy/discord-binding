{
 "cells": [
  {
   "cell_type": "code",
   "execution_count": null,
   "id": "83e3a1cc-8b81-4fb9-ba84-2e4929a13997",
   "metadata": {
    "tags": []
   },
   "outputs": [],
   "source": [
    "!pip install psycopg2"
   ]
  },
  {
   "cell_type": "code",
   "execution_count": null,
   "id": "2e3e7240-060e-435e-a372-bf7f5a81aa1d",
   "metadata": {
    "tags": []
   },
   "outputs": [],
   "source": [
    "from urllib.parse import urlparse\n",
    "import psycopg2\n",
    "import psycopg2.extras\n",
    "import os\n",
    "from dotenv import load_dotenv\n",
    "from pprint import pprint\n",
    "load_dotenv()\n",
    "url = urlparse(os.environ.get(\"postgres_url\"))\n",
    "connection = psycopg2.connect(\n",
    "    host=url.hostname,\n",
    "    port=url.port,\n",
    "    database=url.path[1:],\n",
    "    user=url.username,\n",
    "    password=url.password\n",
    ")\n",
    "cursor = connection.cursor(cursor_factory = psycopg2.extras.RealDictCursor)"
   ]
  },
  {
   "cell_type": "code",
   "execution_count": null,
   "id": "aee3ace7-d595-4b50-95f6-b50eac89ad58",
   "metadata": {
    "tags": []
   },
   "outputs": [],
   "source": [
    "query = \"\"\"\n",
    "select * from raw_authors_t rat ;select guilds_t.id, guilds_t.guild_name , message_count_t.message_count\n",
    "from ( select messages_t.guild_id, count(messages_t.id) as message_count\n",
    "from messages_t\n",
    "group by messages_t.guild_id ) as message_count_t\n",
    "join guilds_t on message_count_t.guild_id = guilds_t.id\n",
    "order by message_count ASC;\n",
    "\"\"\"\n",
    "cursor.execute(query)\n",
    "results = cursor.fetchall()\n",
    "pprint(results)"
   ]
  },
  {
   "cell_type": "code",
   "execution_count": null,
   "id": "7ce16383-5763-41de-9144-5b11542fbab3",
   "metadata": {
    "tags": []
   },
   "outputs": [],
   "source": [
    "!pip install plotly"
   ]
  },
  {
   "cell_type": "code",
   "execution_count": null,
   "id": "174e0885-0960-464b-a876-c7b64b087cba",
   "metadata": {
    "tags": []
   },
   "outputs": [],
   "source": [
    "import plotly.express as px\n",
    "fig = px.bar(x=[\"a\", \"b\", \"c\"], y=[1, 3, 2])\n",
    "fig.write_html('first_figure.html', auto_open=True)"
   ]
  },
  {
   "cell_type": "code",
   "execution_count": null,
   "id": "ce012f46-7949-4b38-a6ef-2c80876c01b6",
   "metadata": {
    "tags": []
   },
   "outputs": [],
   "source": [
    "x_axis = []\n",
    "y_axis = []\n",
    "for guild in results:\n",
    "    x_axis.append(guild[\"guild_name\"])\n",
    "    y_axis.append(guild[\"message_count\"])"
   ]
  },
  {
   "cell_type": "code",
   "execution_count": null,
   "id": "c6e62bbf-2f46-47eb-a2ac-28fbc88b963a",
   "metadata": {
    "tags": []
   },
   "outputs": [],
   "source": [
    "import plotly.express as px\n",
    "fig = px.bar(x=x_axis, y=y_axis)\n",
    "fig.write_html('first_figure.html', auto_open=True)"
   ]
  }
 ],
 "metadata": {
  "kernelspec": {
   "display_name": "Python 3 (ipykernel)",
   "language": "python",
   "name": "python3"
  },
  "language_info": {
   "codemirror_mode": {
    "name": "ipython",
    "version": 3
   },
   "file_extension": ".py",
   "mimetype": "text/x-python",
   "name": "python",
   "nbconvert_exporter": "python",
   "pygments_lexer": "ipython3",
   "version": "3.11.4"
  }
 },
 "nbformat": 4,
 "nbformat_minor": 5
}
