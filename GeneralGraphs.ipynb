{
 "cells": [
  {
   "cell_type": "code",
   "execution_count": null,
   "id": "83e3a1cc-8b81-4fb9-ba84-2e4929a13997",
   "metadata": {
    "tags": []
   },
   "outputs": [],
   "source": [
    "!pip install psycopg2"
   ]
  },
  {
   "cell_type": "code",
   "execution_count": null,
   "id": "2e3e7240-060e-435e-a372-bf7f5a81aa1d",
   "metadata": {
    "tags": []
   },
   "outputs": [],
   "source": [
    "from urllib.parse import urlparse\n",
    "import psycopg2\n",
    "import psycopg2.extras\n",
    "import os\n",
    "from dotenv import load_dotenv\n",
    "from pprint import pprint\n",
    "load_dotenv()\n",
    "url = urlparse(os.environ.get(\"postgres_url\"))\n",
    "connection = psycopg2.connect(\n",
    "    host=url.hostname,\n",
    "    port=url.port,\n",
    "    database=url.path[1:],\n",
    "    user=url.username,\n",
    "    password=url.password\n",
    ")\n",
    "cursor = connection.cursor(cursor_factory = psycopg2.extras.RealDictCursor)"
   ]
  },
  {
   "cell_type": "code",
   "execution_count": null,
   "id": "aee3ace7-d595-4b50-95f6-b50eac89ad58",
   "metadata": {
    "tags": []
   },
   "outputs": [],
   "source": [
    "query = \"\"\"\n",
    "select guilds_t.id, guilds_t.guild_name , message_count_t.message_count\n",
    "from ( select messages_t.guild_id, count(messages_t.id) as message_count\n",
    "from messages_t\n",
    "group by messages_t.guild_id ) as message_count_t\n",
    "join guilds_t on message_count_t.guild_id = guilds_t.id\n",
    "order by message_count ASC;\n",
    "\"\"\"\n",
    "cursor.execute(query)\n",
    "results_0 = cursor.fetchall()\n",
    "pprint(results_0[:3])"
   ]
  },
  {
   "cell_type": "code",
   "execution_count": null,
   "id": "7ce16383-5763-41de-9144-5b11542fbab3",
   "metadata": {
    "tags": []
   },
   "outputs": [],
   "source": [
    "!pip install plotly\n",
    "!pip install kaleido"
   ]
  },
  {
   "cell_type": "code",
   "execution_count": null,
   "id": "788be074-b7bf-4971-9ec7-a5188bd3da3b",
   "metadata": {},
   "outputs": [],
   "source": [
    "import plotly.io as pio\n",
    "import plotly.express as px\n",
    "pio.renderers.default = \"svg\"\n",
    "fig = px.bar(x=[\"a\", \"b\", \"c\"], y=[1, 3, 2])\n",
    "fig.show()"
   ]
  },
  {
   "cell_type": "code",
   "execution_count": null,
   "id": "ce012f46-7949-4b38-a6ef-2c80876c01b6",
   "metadata": {
    "tags": []
   },
   "outputs": [],
   "source": [
    "x_axis = []\n",
    "y_axis = []\n",
    "for guild in results_0:\n",
    "    x_axis.append(guild[\"guild_name\"])\n",
    "    y_axis.append(guild[\"message_count\"])"
   ]
  },
  {
   "cell_type": "code",
   "execution_count": null,
   "id": "c6e62bbf-2f46-47eb-a2ac-28fbc88b963a",
   "metadata": {
    "tags": []
   },
   "outputs": [],
   "source": [
    "import plotly.express as px\n",
    "fig = px.bar(x=x_axis, y=y_axis)\n",
    "fig.show()"
   ]
  },
  {
   "cell_type": "code",
   "execution_count": null,
   "id": "018b8762-6915-4947-afc0-ef8cb5d09ea7",
   "metadata": {},
   "outputs": [],
   "source": [
    "!pip install calmap"
   ]
  },
  {
   "cell_type": "code",
   "execution_count": null,
   "id": "8e802c69-eb2d-44ff-bf8d-8b044f8c6baa",
   "metadata": {},
   "outputs": [],
   "source": [
    "biggest_guild = results_0[-1]\n",
    "query = \"\"\"\n",
    "select distinct guilds_t.id , guilds_t.guild_name, month_timestamp, msg_count from (\n",
    "\tselect\n",
    "\t\tdistinct DATE_TRUNC('day', real_timestamp)\n",
    "\t\t\t         AS  month_timestamp,\n",
    "\t    COUNT(guild_id) AS msg_count,\n",
    "\t    guild_id \n",
    "\tFROM messages_t\n",
    "\tGROUP BY guild_id, month_timestamp\n",
    ") as month_messages_t\n",
    "join guilds_t on month_messages_t.guild_id = guilds_t.id\n",
    "where guilds_t.id = '%s'\n",
    "order by guilds_t.id, month_timestamp;\n",
    "\"\"\"\n",
    "query = query % biggest_guild[\"id\"]\n",
    "print(query)"
   ]
  },
  {
   "cell_type": "code",
   "execution_count": null,
   "id": "5deedcb7-dd87-4de5-9a6e-83712e270415",
   "metadata": {},
   "outputs": [],
   "source": [
    "cursor.execute(query)\n",
    "print(query)\n",
    "results_1 = cursor.fetchall()\n",
    "pprint(results_1[:3])"
   ]
  },
  {
   "cell_type": "code",
   "execution_count": null,
   "id": "7eb32ce2-65a7-41c7-97f9-b656621ea2d0",
   "metadata": {},
   "outputs": [],
   "source": [
    "import pandas as pd"
   ]
  },
  {
   "cell_type": "code",
   "execution_count": null,
   "id": "8139353c-f79b-401b-bfc5-3ac2e237cc15",
   "metadata": {},
   "outputs": [],
   "source": [
    "df = pd.DataFrame.from_dict(results_1)\n",
    "min_value = df['month_timestamp'].min()\n",
    "max_value = df['month_timestamp'].max()\n",
    "df['normalized_message_count'] = (df['month_timestamp'] - min_value) / (max_value - min_value)"
   ]
  },
  {
   "cell_type": "code",
   "execution_count": null,
   "id": "9322bf1d-bb74-471c-a495-d14bf1ac579a",
   "metadata": {},
   "outputs": [],
   "source": [
    "df.dtypes"
   ]
  },
  {
   "cell_type": "code",
   "execution_count": null,
   "id": "2a4e59d8-5b71-46e8-b2fc-d700d78ca3e3",
   "metadata": {},
   "outputs": [],
   "source": [
    "df"
   ]
  },
  {
   "cell_type": "code",
   "execution_count": null,
   "id": "cb2c00fa-805e-4845-bf98-478e4fe3923d",
   "metadata": {},
   "outputs": [],
   "source": [
    "import calmap"
   ]
  },
  {
   "cell_type": "code",
   "execution_count": null,
   "id": "ba81e5fe-bacd-40db-8fb5-5265078d8164",
   "metadata": {},
   "outputs": [],
   "source": [
    "import numpy as np; np.random.seed(sum(map(ord, 'calmap')))"
   ]
  },
  {
   "cell_type": "code",
   "execution_count": null,
   "id": "0c99f845-20ae-436d-a31b-d591962cbc81",
   "metadata": {},
   "outputs": [],
   "source": [
    "all_days = pd.date_range('03/05/2018', periods=2005, freq='D')\n",
    "days = np.random.choice(all_days, 2005)\n",
    "events = pd.Series(np.random.randn(len(days)), index=days)"
   ]
  },
  {
   "cell_type": "code",
   "execution_count": null,
   "id": "2a2b7ef5-f2ee-4801-8158-b3fd8474bb92",
   "metadata": {},
   "outputs": [],
   "source": []
  },
  {
   "cell_type": "code",
   "execution_count": null,
   "id": "d7d74d62-ba56-4f5d-b32d-a10f72793417",
   "metadata": {},
   "outputs": [],
   "source": [
    "days.sort()"
   ]
  },
  {
   "cell_type": "code",
   "execution_count": null,
   "id": "6f941e2e",
   "metadata": {},
   "outputs": [],
   "source": [
    "days"
   ]
  },
  {
   "cell_type": "code",
   "execution_count": null,
   "id": "f2488fd3-726f-4569-bab3-bb9efa14c9fd",
   "metadata": {},
   "outputs": [],
   "source": [
    "my_events = pd.Series(list( df['normalized_message_count'] ), index = days)"
   ]
  },
  {
   "cell_type": "code",
   "execution_count": null,
   "id": "b18d9e7b-0e17-489d-8dcb-576f03d5db56",
   "metadata": {},
   "outputs": [],
   "source": [
    "my_events"
   ]
  },
  {
   "cell_type": "code",
   "execution_count": null,
   "id": "d2e3acd2-cd53-4884-bb6a-965ed58da2cf",
   "metadata": {},
   "outputs": [],
   "source": [
    "calmap.yearplot(my_events, year=2019)"
   ]
  },
  {
   "cell_type": "code",
   "execution_count": null,
   "id": "710bb746-90db-4bfa-9382-588547d48a59",
   "metadata": {},
   "outputs": [],
   "source": [
    "import matplotlib.font_manager"
   ]
  },
  {
   "cell_type": "code",
   "execution_count": null,
   "id": "20c7b7cc-3934-40e7-b5e9-abbc30ae24cd",
   "metadata": {},
   "outputs": [],
   "source": [
    "calmap.calendarplot(\n",
    "    my_events,\n",
    "    monthticks=3,\n",
    "    daylabels='MTWTFSS',\n",
    "    dayticks=[0, 2, 4, 6],\n",
    "    cmap='YlGn',\n",
    "    fillcolor='grey',\n",
    "    linewidth=0,\n",
    "    fig_kws=dict(figsize=(20, 10)),\n",
    "    yearlabels=True,\n",
    "    yearascending=True\n",
    ")"
   ]
  },
  {
   "cell_type": "code",
   "execution_count": null,
   "id": "494c2941-a247-4e4f-889c-558b254215e9",
   "metadata": {},
   "outputs": [],
   "source": [
    "df"
   ]
  },
  {
   "cell_type": "code",
   "execution_count": null,
   "id": "2e5bc665-806c-4b8b-ac6d-cb07ae927797",
   "metadata": {},
   "outputs": [],
   "source": [
    "calmap.yearplot(series_df, year=2020)"
   ]
  },
  {
   "cell_type": "code",
   "execution_count": null,
   "id": "32a810ca-37d5-4294-bd29-7603c786ea7b",
   "metadata": {},
   "outputs": [],
   "source": [
    "all_days = pd.date_range('1/15/2018', periods=265*6, freq='D')"
   ]
  },
  {
   "cell_type": "code",
   "execution_count": null,
   "id": "f75abbfd-000e-45f1-9d7e-ed35e29f0af5",
   "metadata": {},
   "outputs": [],
   "source": [
    "all_days = pd.date_range('1/15/2014', periods=700, freq='D')\n",
    "days = np.random.choice(all_days, 500)\n",
    "events = pd.Series(np.random.randn(len(days)), index=days)\n",
    "calmap.yearplot(events, year=2015)"
   ]
  },
  {
   "cell_type": "code",
   "execution_count": null,
   "id": "4db07c6d-896e-4480-9807-b2ddec78fae8",
   "metadata": {},
   "outputs": [],
   "source": [
    "len(days)"
   ]
  }
 ],
 "metadata": {
  "kernelspec": {
   "display_name": "Python 3 (ipykernel)",
   "language": "python",
   "name": "python3"
  },
  "language_info": {
   "codemirror_mode": {
    "name": "ipython",
    "version": 3
   },
   "file_extension": ".py",
   "mimetype": "text/x-python",
   "name": "python",
   "nbconvert_exporter": "python",
   "pygments_lexer": "ipython3",
   "version": "3.10.12"
  }
 },
 "nbformat": 4,
 "nbformat_minor": 5
}
