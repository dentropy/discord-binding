{
 "cells": [
  {
   "cell_type": "code",
   "execution_count": null,
   "id": "83e3a1cc-8b81-4fb9-ba84-2e4929a13997",
   "metadata": {
    "tags": []
   },
   "outputs": [],
   "source": [
    "!pip install psycopg2\n",
    "!pip install plotly\n",
    "!pip install kaleido\n",
    "!pip install calmap"
   ]
  },
  {
   "cell_type": "code",
   "execution_count": null,
   "id": "2e3e7240-060e-435e-a372-bf7f5a81aa1d",
   "metadata": {
    "tags": []
   },
   "outputs": [],
   "source": [
    "from urllib.parse import urlparse\n",
    "import psycopg2\n",
    "import psycopg2.extras\n",
    "from pprint import pprint\n",
    "import pandas as pd\n",
    "\n",
    "import plotly.io as pio\n",
    "import plotly.express as px\n",
    "\n",
    "import os\n",
    "from dotenv import load_dotenv\n",
    "load_dotenv()\n",
    "\n",
    "url = urlparse(os.environ.get(\"postgres_url\"))\n",
    "connection = psycopg2.connect(\n",
    "    host=url.hostname,\n",
    "    port=url.port,\n",
    "    database=url.path[1:],\n",
    "    user=url.username,\n",
    "    password=url.password\n",
    ")\n",
    "cursor = connection.cursor(cursor_factory = psycopg2.extras.RealDictCursor)"
   ]
  },
  {
   "cell_type": "markdown",
   "id": "f3a54d84-3313-4c92-8f89-e20c086f84e6",
   "metadata": {},
   "source": [
    "# Example Test Bar Chart"
   ]
  },
  {
   "cell_type": "code",
   "execution_count": null,
   "id": "788be074-b7bf-4971-9ec7-a5188bd3da3b",
   "metadata": {},
   "outputs": [],
   "source": [
    "pio.renderers.default = \"png\"\n",
    "fig = px.bar(x=[\"a\", \"b\", \"c\"], y=[1, 3, 2])\n",
    "fig.show()"
   ]
  },
  {
   "cell_type": "markdown",
   "id": "67f22b67-83d9-467b-b4ad-2d551267ce07",
   "metadata": {},
   "source": [
    "# Earliest message per Guild"
   ]
  },
  {
   "cell_type": "code",
   "execution_count": null,
   "id": "87f84535-c235-48ac-83e5-82513080fa0a",
   "metadata": {},
   "outputs": [],
   "source": [
    "query = \"\"\"\n",
    "select guilds_t.guild_name , time_sorted_messages_t.guild_id, channels_t.channel_name, channel_id, content, time_sorted_messages_t.real_timestamp from messages_t\n",
    "join (\n",
    "    SELECT guild_id, MIN(real_timestamp) as real_timestamp \n",
    "    FROM messages_t\n",
    "    GROUP BY guild_id\n",
    ") as time_sorted_messages_t\n",
    "on time_sorted_messages_t.real_timestamp = messages_t.real_timestamp\n",
    "join guilds_t on time_sorted_messages_t.guild_id = guilds_t.id\n",
    "join channels_t on messages_t.channel_id = channels_t.id\n",
    "order by real_timestamp ASC;\n",
    "\"\"\""
   ]
  },
  {
   "cell_type": "code",
   "execution_count": null,
   "id": "d80f3a93-01fb-40c6-b5f2-085ec2ce1189",
   "metadata": {},
   "outputs": [],
   "source": [
    "cursor.execute(query)\n",
    "ealiest_message_per_guild_results = cursor.fetchall()\n",
    "df = pd.DataFrame.from_dict(ealiest_message_per_guild_results)"
   ]
  },
  {
   "cell_type": "code",
   "execution_count": null,
   "id": "ba12bb14-4dc6-45ab-9c91-7e3424872c26",
   "metadata": {},
   "outputs": [],
   "source": [
    "df"
   ]
  },
  {
   "cell_type": "markdown",
   "id": "30a97909-a594-4163-9947-37a74b748aec",
   "metadata": {},
   "source": [
    "# Number of Messages Per Guild"
   ]
  },
  {
   "cell_type": "code",
   "execution_count": null,
   "id": "e89f35e8-30f5-491a-8c20-4957688e7763",
   "metadata": {},
   "outputs": [],
   "source": [
    "query = \"\"\"\n",
    "select guilds_t.id, guilds_t.guild_name , message_count_t.message_count\n",
    "from ( select messages_t.guild_id, count(messages_t.id) as message_count\n",
    "from messages_t\n",
    "group by messages_t.guild_id ) as message_count_t\n",
    "join guilds_t on message_count_t.guild_id = guilds_t.id\n",
    "order by message_count ASC;\n",
    "\"\"\"\n",
    "cursor.execute(query)\n",
    "results_0 = cursor.fetchall()\n",
    "# pprint(results_0[:3])"
   ]
  },
  {
   "cell_type": "code",
   "execution_count": null,
   "id": "c6e62bbf-2f46-47eb-a2ac-28fbc88b963a",
   "metadata": {
    "tags": []
   },
   "outputs": [],
   "source": [
    "x_axis = []\n",
    "y_axis = []\n",
    "for guild in results_0:\n",
    "    x_axis.append(guild[\"guild_name\"])\n",
    "    y_axis.append(guild[\"message_count\"])\n",
    "fig = px.bar(\n",
    "    x=x_axis, \n",
    "    y=y_axis,\n",
    "    title = \"Number of Messages Per Guild\",\n",
    "    labels = {'x':\"Guild Names\", \n",
    "              'y':'Total Number of Messages'}\n",
    ")\n",
    "fig.show()"
   ]
  },
  {
   "cell_type": "markdown",
   "id": "876a4d28-0fd1-4214-bfe8-d679076ae959",
   "metadata": {},
   "source": [
    "# Number of Authors per Guild"
   ]
  },
  {
   "cell_type": "code",
   "execution_count": null,
   "id": "fc3a2f64-6e9d-49d8-b25e-0e869730ab3d",
   "metadata": {},
   "outputs": [],
   "source": [
    "query = \"\"\"\n",
    "select \n",
    "    guilds_t.id, \n",
    "    guilds_t.guild_name, \n",
    "    guild_author_count_t.author_count \n",
    "FROM \n",
    "(\n",
    "    select distinct guild_id, COUNT(distinct(author)) as author_count\n",
    "    from messages_t mt \n",
    "    group by guild_id\n",
    ") as guild_author_count_t\n",
    "join guilds_t on guild_author_count_t.guild_id = guilds_t.id\n",
    "order by guild_author_count_t.author_count asc;\n",
    "\"\"\"\n",
    "cursor.execute(query)\n",
    "author_per_guild = cursor.fetchall()\n",
    "pprint(author_per_guild[:3])"
   ]
  },
  {
   "cell_type": "code",
   "execution_count": null,
   "id": "860c9775-9ae8-4cf7-938f-a8dc5a9b4eb5",
   "metadata": {},
   "outputs": [],
   "source": [
    "x_axis = []\n",
    "y_axis = []\n",
    "for guild in author_per_guild:\n",
    "    x_axis.append(guild[\"guild_name\"])\n",
    "    y_axis.append(guild[\"author_count\"])\n",
    "fig = px.bar(\n",
    "    x=x_axis, \n",
    "    y=y_axis,\n",
    "    title = \"Number of Authors Per Guild\",\n",
    "    labels = {'x':\"Guild Names\", \n",
    "              'y':'Total Number of Authors'}\n",
    ")\n",
    "fig.show()"
   ]
  },
  {
   "cell_type": "markdown",
   "id": "1d051d7d-84de-41e8-a039-f6419ffcd054",
   "metadata": {},
   "source": [
    "# What percentage of Authors in each Guild have posted less than 5 messages"
   ]
  },
  {
   "cell_type": "code",
   "execution_count": null,
   "id": "89e0c678-9b19-41a6-a621-8f0a6db8f32e",
   "metadata": {},
   "outputs": [],
   "source": [
    "min_message_count = 5\n",
    "query = f\"\"\"\n",
    "select \n",
    "\tguild_id,\n",
    "\tguild_name,\n",
    "\tusers_more_x_messages,\n",
    "\tauthor_raw_count,\n",
    "\tCAST(users_more_x_messages AS FLOAT) / CAST(author_raw_count AS FLOAT) * 100 as author_num_percentage\n",
    "from \n",
    "(\n",
    "\tSELECT \n",
    "\t\tauthor_messages_threshold_t.guild_id as guild_id,\n",
    "\t\tauthor_messages_threshold_t.guild_name as guild_name,\n",
    "\t\tauthor_messages_threshold_t.users_more_x_messages as users_more_x_messages,\n",
    "\t\tauthor_count_t.author_raw_count as author_raw_count\n",
    "\tFROM \n",
    "\t(\n",
    "\t\tselect \n",
    "\t\t\tguild_message_count_t.guild_id as guild_id,\n",
    "\t\t\tguilds_t.guild_name,\n",
    "\t\t\tcount(*) as users_more_x_messages\n",
    "\t\tfrom \n",
    "\t\t(\n",
    "\t\t\tselect * FROM\n",
    "\t\t\t\t(\n",
    "\t\t\t\t\tselect \n",
    "\t\t\t\t\t\tguild_id,\n",
    "\t\t\t\t\t\tauthor,\n",
    "\t\t\t\t\t\tcount(content) as msg_count\n",
    "\t\t\t\t\tfrom messages_t\n",
    "\t\t\t\t\tgroup by guild_id, author \n",
    "\t\t\t\t) as raw_author_message_count\n",
    "\t\t\twhere msg_count < {min_message_count}\n",
    "\t\t) as guild_message_count_t\n",
    "\t\tjoin guilds_t on guild_message_count_t.guild_id = guilds_t.id\n",
    "\t\tgroup by guild_message_count_t.guild_id, guilds_t.guild_name\n",
    "\t) as author_messages_threshold_t \n",
    "\tJOIN \n",
    "\t(\n",
    "\t\tselect \n",
    "\t\t\tguilds_t.id as guild_id, \n",
    "\t\t\tguilds_t.guild_name, \n",
    "\t\t\tguild_author_count_t.author_raw_count \n",
    "\t\tFROM (\n",
    "\t\t\tselect distinct guild_id, COUNT(distinct(author)) as author_raw_count\n",
    "\t\t\tfrom messages_t mt \n",
    "\t\t\tgroup by guild_id\n",
    "\t\t) as guild_author_count_t\n",
    "\t\tjoin guilds_t on guild_author_count_t.guild_id = guilds_t.id\n",
    "\t\torder by guild_author_count_t.author_raw_count asc\n",
    "\t) as author_count_t\n",
    "\tON author_messages_threshold_t.guild_id = author_count_t.guild_id\n",
    ") as raw_author_message_count_t\n",
    "order by author_num_percentage asc;\n",
    "\"\"\"\n",
    "cursor.execute(query)\n",
    "min_5_messages_percentage = cursor.fetchall()\n",
    "pprint(min_5_messages_percentage[:3])"
   ]
  },
  {
   "cell_type": "code",
   "execution_count": null,
   "id": "e5b8b8fd-e7e3-4bf9-abe2-48b08b106913",
   "metadata": {},
   "outputs": [],
   "source": [
    "x_axis = []\n",
    "y_axis = []\n",
    "for guild in min_5_messages_percentage:\n",
    "    x_axis.append(guild[\"guild_name\"])\n",
    "    y_axis.append(guild[\"author_num_percentage\"])\n",
    "fig = px.bar(\n",
    "    x=x_axis, \n",
    "    y=y_axis,\n",
    "    title = \"Percentage of Authors with less than 5 Messages\",\n",
    "    labels = {'x':\"Guild Names\", \n",
    "              'y':'Percentage of Users with Less then 5 Messages'}\n",
    ")\n",
    "fig.show()"
   ]
  },
  {
   "cell_type": "markdown",
   "id": "2a365863-767a-46e9-8f2c-fe88f389f335",
   "metadata": {},
   "source": [
    "# What percentage of Authors in each Guild have posted more than 20 messages"
   ]
  },
  {
   "cell_type": "code",
   "execution_count": null,
   "id": "4e993a26-de62-4114-82ad-2e1a20551784",
   "metadata": {},
   "outputs": [],
   "source": [
    "min_message_count = 20\n",
    "query = f\"\"\"\n",
    "select \n",
    "\tguild_id,\n",
    "\tguild_name,\n",
    "\tusers_more_x_messages,\n",
    "\tauthor_raw_count,\n",
    "\tCAST(users_more_x_messages AS FLOAT) / CAST(author_raw_count AS FLOAT) * 100 as author_num_percentage\n",
    "from \n",
    "(\n",
    "\tSELECT \n",
    "\t\tauthor_messages_threshold_t.guild_id as guild_id,\n",
    "\t\tauthor_messages_threshold_t.guild_name as guild_name,\n",
    "\t\tauthor_messages_threshold_t.users_more_x_messages as users_more_x_messages,\n",
    "\t\tauthor_count_t.author_raw_count as author_raw_count\n",
    "\tFROM \n",
    "\t(\n",
    "\t\tselect \n",
    "\t\t\tguild_message_count_t.guild_id as guild_id,\n",
    "\t\t\tguilds_t.guild_name,\n",
    "\t\t\tcount(*) as users_more_x_messages\n",
    "\t\tfrom \n",
    "\t\t(\n",
    "\t\t\tselect * FROM\n",
    "\t\t\t\t(\n",
    "\t\t\t\t\tselect \n",
    "\t\t\t\t\t\tguild_id,\n",
    "\t\t\t\t\t\tauthor,\n",
    "\t\t\t\t\t\tcount(content) as msg_count\n",
    "\t\t\t\t\tfrom messages_t\n",
    "\t\t\t\t\tgroup by guild_id, author \n",
    "\t\t\t\t) as raw_author_message_count\n",
    "\t\t\twhere msg_count > {min_message_count}\n",
    "\t\t) as guild_message_count_t\n",
    "\t\tjoin guilds_t on guild_message_count_t.guild_id = guilds_t.id\n",
    "\t\tgroup by guild_message_count_t.guild_id, guilds_t.guild_name\n",
    "\t) as author_messages_threshold_t \n",
    "\tJOIN \n",
    "\t(\n",
    "\t\tselect \n",
    "\t\t\tguilds_t.id as guild_id, \n",
    "\t\t\tguilds_t.guild_name, \n",
    "\t\t\tguild_author_count_t.author_raw_count \n",
    "\t\tFROM (\n",
    "\t\t\tselect distinct guild_id, COUNT(distinct(author)) as author_raw_count\n",
    "\t\t\tfrom messages_t mt \n",
    "\t\t\tgroup by guild_id\n",
    "\t\t) as guild_author_count_t\n",
    "\t\tjoin guilds_t on guild_author_count_t.guild_id = guilds_t.id\n",
    "\t\torder by guild_author_count_t.author_raw_count asc\n",
    "\t) as author_count_t\n",
    "\tON author_messages_threshold_t.guild_id = author_count_t.guild_id\n",
    ") as raw_author_message_count_t\n",
    "order by author_num_percentage asc;\n",
    "\"\"\"\n",
    "cursor.execute(query)\n",
    "author_more_20_message_percentage = cursor.fetchall()\n",
    "pprint(author_per_guild[:3])"
   ]
  },
  {
   "cell_type": "code",
   "execution_count": null,
   "id": "3186b3af-1510-47d6-8489-7bc6f8bd047f",
   "metadata": {},
   "outputs": [],
   "source": [
    "x_axis = []\n",
    "y_axis = []\n",
    "for guild in author_more_20_message_percentage:\n",
    "    x_axis.append(guild[\"guild_name\"])\n",
    "    y_axis.append(guild[\"author_num_percentage\"])\n",
    "fig = px.bar(\n",
    "    x=x_axis, \n",
    "    y=y_axis,\n",
    "    title = \"Percentage of Authors with More than 20 Messages\",\n",
    "    labels = {'x':\"Guild Names\", \n",
    "              'y':'Percentage of Users with More than 20 Messages'}\n",
    ")\n",
    "fig.show()"
   ]
  },
  {
   "cell_type": "markdown",
   "id": "f76c59e8-7d75-4eb3-9ebe-0fea342164b3",
   "metadata": {},
   "source": [
    "# What is the most, and second most, active month for each Discord Guild?"
   ]
  },
  {
   "cell_type": "code",
   "execution_count": null,
   "id": "6710747c-9173-4fc2-b20a-adb67fc13254",
   "metadata": {},
   "outputs": [],
   "source": [
    "query = \"\"\"\n",
    "select distinct guilds_t.id , guilds_t.guild_name, month_timestamp, msg_count from (\n",
    "\tselect\n",
    "\t\tdistinct DATE_TRUNC('month', real_timestamp)\n",
    "\t\t\t         AS  month_timestamp,\n",
    "\t    COUNT(guild_id) AS msg_count,\n",
    "\t    guild_id \n",
    "\tFROM messages_t\n",
    "\tGROUP BY guild_id, month_timestamp\n",
    ") as month_messages_t\n",
    "join guilds_t on month_messages_t.guild_id = guilds_t.id\n",
    "order by guilds_t.id, month_timestamp;\n",
    "\"\"\"\n",
    "cursor.execute(query)\n",
    "active_months = cursor.fetchall()\n",
    "active_months_df = pd.DataFrame.from_dict(active_months)"
   ]
  },
  {
   "cell_type": "code",
   "execution_count": null,
   "id": "11463c25-ea40-44de-adb6-60adb6b726ba",
   "metadata": {},
   "outputs": [],
   "source": [
    "fig = px.line(\n",
    "    active_months_df,\n",
    "    x=\"month_timestamp\",\n",
    "    y=\"msg_count\",\n",
    "    color='guild_name',\n",
    "    title = \"Message Count per Month per DIscord Guild\",\n",
    "    labels = {'x':\"Guild Names\", \n",
    "              'y':'Number of Messages That Month'},\n",
    "    width=1920,\n",
    "    height=1080\n",
    ")\n",
    "fig.show()"
   ]
  },
  {
   "cell_type": "markdown",
   "id": "38525e84-e526-45f0-bc1c-6fd803412216",
   "metadata": {},
   "source": [
    "# CALPLOT STUFF"
   ]
  },
  {
   "cell_type": "code",
   "execution_count": null,
   "id": "8e802c69-eb2d-44ff-bf8d-8b044f8c6baa",
   "metadata": {},
   "outputs": [],
   "source": [
    "biggest_guild = results_0[-1]\n",
    "query = \"\"\"\n",
    "select distinct guilds_t.id , guilds_t.guild_name, month_timestamp, msg_count from (\n",
    "\tselect\n",
    "\t\tdistinct DATE_TRUNC('day', real_timestamp)\n",
    "\t\t\t         AS  month_timestamp,\n",
    "\t    COUNT(guild_id) AS msg_count,\n",
    "\t    guild_id \n",
    "\tFROM messages_t\n",
    "\tGROUP BY guild_id, month_timestamp\n",
    ") as month_messages_t\n",
    "join guilds_t on month_messages_t.guild_id = guilds_t.id\n",
    "where guilds_t.id = '%s'\n",
    "order by guilds_t.id, month_timestamp;\n",
    "\"\"\"\n",
    "query = query % str(biggest_guild[\"id\"])"
   ]
  },
  {
   "cell_type": "code",
   "execution_count": null,
   "id": "5deedcb7-dd87-4de5-9a6e-83712e270415",
   "metadata": {},
   "outputs": [],
   "source": [
    "cursor.execute(query)\n",
    "print(query)\n",
    "total_num_messages_per_guild = cursor.fetchall()"
   ]
  },
  {
   "cell_type": "code",
   "execution_count": null,
   "id": "7eb32ce2-65a7-41c7-97f9-b656621ea2d0",
   "metadata": {},
   "outputs": [],
   "source": [
    "import pandas as pd\n",
    "import calmap\n",
    "import numpy as np; np.random.seed(sum(map(ord, 'calmap')))"
   ]
  },
  {
   "cell_type": "code",
   "execution_count": null,
   "id": "8139353c-f79b-401b-bfc5-3ac2e237cc15",
   "metadata": {},
   "outputs": [],
   "source": [
    "df = pd.DataFrame.from_dict(total_num_messages_per_guild)\n",
    "min_value = df['month_timestamp'].min()\n",
    "max_value = df['month_timestamp'].max()\n",
    "df['normalized_message_count'] = (df['month_timestamp'] - min_value) / (max_value - min_value)\n",
    "all_days = pd.date_range('03/05/2018', periods=2005, freq='D')\n",
    "days = np.random.choice(all_days, 2005)\n",
    "events = pd.Series(np.random.randn(len(days)), index=days)\n",
    "days.sort()\n",
    "my_events = pd.Series(list( df['normalized_message_count'] ), index = days)"
   ]
  },
  {
   "cell_type": "code",
   "execution_count": null,
   "id": "d2e3acd2-cd53-4884-bb6a-965ed58da2cf",
   "metadata": {},
   "outputs": [],
   "source": [
    "calmap.yearplot(my_events, year=2019)"
   ]
  },
  {
   "cell_type": "code",
   "execution_count": null,
   "id": "4309e818-f225-43f3-b417-9dff5eee1156",
   "metadata": {},
   "outputs": [],
   "source": [
    "calmap.yearplot(my_events, year=2020)"
   ]
  },
  {
   "cell_type": "code",
   "execution_count": null,
   "id": "20c7b7cc-3934-40e7-b5e9-abbc30ae24cd",
   "metadata": {},
   "outputs": [],
   "source": [
    "calmap.calendarplot(\n",
    "    my_events,\n",
    "    monthticks=3,\n",
    "    daylabels='MTWTFSS',\n",
    "    dayticks=[0, 2, 4, 6],\n",
    "    cmap='YlGn',\n",
    "    fillcolor='grey',\n",
    "    linewidth=0,\n",
    "    fig_kws=dict(figsize=(20, 10)),\n",
    "    yearlabels=True,\n",
    "    yearascending=True\n",
    ")"
   ]
  },
  {
   "cell_type": "code",
   "execution_count": null,
   "id": "6a085fec-26d1-48b6-a798-642f7fe6948f",
   "metadata": {},
   "outputs": [],
   "source": []
  }
 ],
 "metadata": {
  "kernelspec": {
   "display_name": "Python 3 (ipykernel)",
   "language": "python",
   "name": "python3"
  },
  "language_info": {
   "codemirror_mode": {
    "name": "ipython",
    "version": 3
   },
   "file_extension": ".py",
   "mimetype": "text/x-python",
   "name": "python",
   "nbconvert_exporter": "python",
   "pygments_lexer": "ipython3",
   "version": "3.10.12"
  }
 },
 "nbformat": 4,
 "nbformat_minor": 5
}
